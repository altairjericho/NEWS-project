{
 "cells": [
  {
   "cell_type": "code",
   "execution_count": 54,
   "metadata": {
    "scrolled": true
   },
   "outputs": [],
   "source": [
    "import numpy as np\n",
    "import pandas as pd\n",
    "import os\n",
    "import shutil\n",
    "import re\n",
    "import matplotlib.pyplot as plt\n",
    "from sklearn.model_selection import train_test_split\n",
    "\n",
    "import keras\n",
    "from keras.layers import Input, Dense, Activation, ZeroPadding2D, BatchNormalization, Flatten, Conv2D, MaxPooling2D, Dropout\n",
    "from keras.layers import ZeroPadding3D, Conv3D, MaxPooling3D\n",
    "from keras import optimizers\n",
    "from keras.models import Model\n",
    "\n",
    "import keras.backend as K\n",
    "K.set_image_data_format('channels_last')\n",
    "\n",
    "%matplotlib inline"
   ]
  },
  {
   "cell_type": "code",
   "execution_count": 2,
   "metadata": {},
   "outputs": [
    {
     "name": "stdout",
     "output_type": "stream",
     "text": [
      "[name: \"/device:CPU:0\"\n",
      "device_type: \"CPU\"\n",
      "memory_limit: 268435456\n",
      "locality {\n",
      "}\n",
      "incarnation: 16492708217666113544\n",
      ", name: \"/device:GPU:0\"\n",
      "device_type: \"GPU\"\n",
      "memory_limit: 2670198784\n",
      "locality {\n",
      "  bus_id: 1\n",
      "}\n",
      "incarnation: 6312969162566649163\n",
      "physical_device_desc: \"device: 0, name: GeForce GTX 780, pci bus id: 0000:03:00.0, compute capability: 3.5\"\n",
      "]\n"
     ]
    }
   ],
   "source": [
    "from tensorflow.python.client import device_lib\n",
    "print(device_lib.list_local_devices())"
   ]
  },
  {
   "cell_type": "code",
   "execution_count": 3,
   "metadata": {},
   "outputs": [],
   "source": [
    "path = \"/mnt/ML-drive/scanner-ml/Artem/share/Valerio/\"\n",
    "class_names = ['C100keV','TestSample']\n",
    "n_pols = 8"
   ]
  },
  {
   "cell_type": "code",
   "execution_count": 4,
   "metadata": {},
   "outputs": [],
   "source": [
    "def load_images(path, name_dir='TestSample', n_pols=8):\n",
    "    \n",
    "    img_ind = []\n",
    "    path = path+name_dir+\"/crops/\"\n",
    "    img_names = os.listdir(path)\n",
    "    for name in img_names:\n",
    "        img_ind.append(re.split('[_.]',name))\n",
    "    img_ind = pd.DataFrame(np.array(img_ind),columns=['ViewID','gr','GrainID','pol','Polarization','cl','ClusterID','csv'])\n",
    "    img_ind = img_ind.drop(['csv'],axis=1).sort_values(['ViewID','GrainID','Polarization'])\n",
    "    for view in np.unique(img_ind['ViewID']):\n",
    "        view_imgs = img_ind[ img_ind['ViewID']==view ]\n",
    "        for grain in np.unique(view_imgs['GrainID']):\n",
    "            grain_imgs = view_imgs[ view_imgs['GrainID']==grain ]\n",
    "            if grain_imgs.shape[0]!=8:\n",
    "                img_ind = img_ind.drop(grain_imgs.index)\n",
    "    img_names = []\n",
    "    for name in img_ind.values:\n",
    "        img_names.append('_'.join(name)+'.csv')\n",
    "    \n",
    "    i=0\n",
    "    im_array = []\n",
    "    for name in img_names:\n",
    "        if i==0 : tmp_im = []\n",
    "        tmp_im.append(pd.read_csv(path+name, header=None).drop(31, axis=1).values)\n",
    "        i+=1\n",
    "        if i==n_pols:\n",
    "            im_array.append(np.array(tmp_im).T)\n",
    "            i=0\n",
    "    return np.array(im_array)"
   ]
  },
  {
   "cell_type": "code",
   "execution_count": 5,
   "metadata": {
    "scrolled": true
   },
   "outputs": [
    {
     "name": "stdout",
     "output_type": "stream",
     "text": [
      "number of training examples = 19703\n",
      "number of test examples = 3478\n",
      "X_train shape: (19703, 31, 31, 8)\n",
      "Y_train shape: (19703, 1)\n",
      "X_test shape: (3478, 31, 31, 8)\n",
      "Y_test shape: (3478, 1)\n",
      "CPU times: user 7min 32s, sys: 3.25 s, total: 7min 35s\n",
      "Wall time: 7min 35s\n"
     ]
    }
   ],
   "source": [
    "%%time\n",
    "X_sign = load_images(path, 'C100keV')\n",
    "y_sign = np.ones((X_sign.shape[0],1))\n",
    "X_noise = load_images(path, 'TestSample')\n",
    "y_noise = np.zeros((X_noise.shape[0],1))\n",
    "\n",
    "X = np.vstack((X_sign, X_noise))\n",
    "y = np.vstack((y_sign, y_noise))\n",
    "\n",
    "X_train, X_test, Y_train, Y_test = train_test_split(X, y, test_size=0.15, stratify=y)\n",
    "\n",
    "# Normalize image vectors (????)\n",
    "#X_train = X_train_orig/255.\n",
    "#X_test = X_test_orig/255.\n",
    "\n",
    "print (\"number of training examples = \" + str(X_train.shape[0]))\n",
    "print (\"number of test examples = \" + str(X_test.shape[0]))\n",
    "print (\"X_train shape: \" + str(X_train.shape))\n",
    "print (\"Y_train shape: \" + str(Y_train.shape))\n",
    "print (\"X_test shape: \" + str(X_test.shape))\n",
    "print (\"Y_test shape: \" + str(Y_test.shape))"
   ]
  },
  {
   "cell_type": "markdown",
   "metadata": {},
   "source": [
    "# Simplified CNN model"
   ]
  },
  {
   "cell_type": "code",
   "execution_count": 98,
   "metadata": {},
   "outputs": [],
   "source": [
    "def CNN_model(input_shape=(31,31,8), classes=2):\n",
    "    \n",
    "    \n",
    "    X_input = Input(input_shape)\n",
    "    \n",
    "    X = ZeroPadding2D((1,1))(X_input)\n",
    "    X = Conv2D(64, 3, name='conv1')(X)\n",
    "    #X = BatchNormalization(name='batch1')(X)\n",
    "    X = Activation('relu')(X)\n",
    "    X = MaxPooling2D(name='pool1')(X)\n",
    "    print('conv1\\t',X.get_shape())\n",
    "    \n",
    "    X = Flatten()(X)\n",
    "    X = Dense(1, activation='sigmoid', name='fc')(X)\n",
    "    if classes != 2 : print('oh no, too many classes, change the model output to softmax!')\n",
    "    \n",
    "    model = Model(inputs = X_input, outputs = X, name='CNN_model')\n",
    "    return model"
   ]
  },
  {
   "cell_type": "code",
   "execution_count": 99,
   "metadata": {},
   "outputs": [
    {
     "name": "stdout",
     "output_type": "stream",
     "text": [
      "conv1\t (?, 15, 15, 64)\n"
     ]
    }
   ],
   "source": [
    "cnn_model = CNN_model(input_shape=(31,31,8))"
   ]
  },
  {
   "cell_type": "code",
   "execution_count": 100,
   "metadata": {},
   "outputs": [],
   "source": [
    "cnn_model.compile(optimizer='nadam', loss='binary_crossentropy', metrics=['accuracy'])"
   ]
  },
  {
   "cell_type": "code",
   "execution_count": 101,
   "metadata": {
    "scrolled": true
   },
   "outputs": [
    {
     "name": "stdout",
     "output_type": "stream",
     "text": [
      "Train on 16747 samples, validate on 2956 samples\n",
      "Epoch 1/30\n",
      "16747/16747 [==============================] - 3s 201us/step - loss: 10.9632 - acc: 0.3177 - val_loss: 11.2216 - val_acc: 0.3038\n",
      "Epoch 2/30\n",
      "16747/16747 [==============================] - 2s 134us/step - loss: 11.0806 - acc: 0.3125 - val_loss: 11.2216 - val_acc: 0.3038\n",
      "Epoch 3/30\n",
      "16747/16747 [==============================] - 2s 135us/step - loss: 11.0806 - acc: 0.3125 - val_loss: 11.2216 - val_acc: 0.3038\n",
      "Epoch 4/30\n",
      "16747/16747 [==============================] - 2s 133us/step - loss: 11.0806 - acc: 0.3125 - val_loss: 11.2216 - val_acc: 0.3038\n",
      "Epoch 5/30\n",
      "16747/16747 [==============================] - 2s 133us/step - loss: 11.0806 - acc: 0.3125 - val_loss: 11.2216 - val_acc: 0.3038\n",
      "Epoch 6/30\n",
      "16747/16747 [==============================] - 2s 132us/step - loss: 11.0806 - acc: 0.3125 - val_loss: 11.2216 - val_acc: 0.3038\n",
      "Epoch 7/30\n",
      "16747/16747 [==============================] - 2s 134us/step - loss: 11.0806 - acc: 0.3125 - val_loss: 11.2216 - val_acc: 0.3038\n",
      "Epoch 8/30\n",
      "16747/16747 [==============================] - 2s 133us/step - loss: 11.0806 - acc: 0.3125 - val_loss: 11.2216 - val_acc: 0.3038\n",
      "Epoch 9/30\n",
      "16747/16747 [==============================] - 2s 132us/step - loss: 11.0806 - acc: 0.3125 - val_loss: 11.2216 - val_acc: 0.3038\n",
      "Epoch 10/30\n",
      "16747/16747 [==============================] - 2s 133us/step - loss: 11.0806 - acc: 0.3125 - val_loss: 11.2216 - val_acc: 0.3038\n",
      "Epoch 11/30\n",
      "16747/16747 [==============================] - 2s 133us/step - loss: 11.0806 - acc: 0.3125 - val_loss: 11.2216 - val_acc: 0.3038\n",
      "Epoch 12/30\n",
      "16747/16747 [==============================] - 2s 134us/step - loss: 11.0806 - acc: 0.3125 - val_loss: 11.2216 - val_acc: 0.3038\n",
      "Epoch 13/30\n",
      "16747/16747 [==============================] - 2s 133us/step - loss: 11.0806 - acc: 0.3125 - val_loss: 11.2216 - val_acc: 0.3038\n",
      "Epoch 14/30\n",
      "16747/16747 [==============================] - 2s 133us/step - loss: 11.0806 - acc: 0.3125 - val_loss: 11.2216 - val_acc: 0.3038\n",
      "Epoch 15/30\n",
      "16747/16747 [==============================] - 2s 133us/step - loss: 11.0806 - acc: 0.3125 - val_loss: 11.2216 - val_acc: 0.3038\n",
      "Epoch 16/30\n",
      "16747/16747 [==============================] - 2s 132us/step - loss: 11.0806 - acc: 0.3125 - val_loss: 11.2216 - val_acc: 0.3038\n",
      "Epoch 17/30\n",
      "16747/16747 [==============================] - 2s 133us/step - loss: 11.0806 - acc: 0.3125 - val_loss: 11.2216 - val_acc: 0.3038\n",
      "Epoch 18/30\n",
      "16747/16747 [==============================] - 2s 133us/step - loss: 11.0806 - acc: 0.3125 - val_loss: 11.2216 - val_acc: 0.3038\n",
      "Epoch 19/30\n",
      "16747/16747 [==============================] - 2s 133us/step - loss: 11.0806 - acc: 0.3125 - val_loss: 11.2216 - val_acc: 0.3038\n",
      "Epoch 20/30\n",
      "16747/16747 [==============================] - 2s 134us/step - loss: 11.0806 - acc: 0.3125 - val_loss: 11.2216 - val_acc: 0.3038\n",
      "Epoch 21/30\n",
      "16747/16747 [==============================] - 2s 134us/step - loss: 11.0806 - acc: 0.3125 - val_loss: 11.2216 - val_acc: 0.3038\n",
      "Epoch 22/30\n",
      "16747/16747 [==============================] - 2s 133us/step - loss: 11.0806 - acc: 0.3125 - val_loss: 11.2216 - val_acc: 0.3038\n",
      "Epoch 23/30\n",
      "16747/16747 [==============================] - 2s 132us/step - loss: 11.0806 - acc: 0.3125 - val_loss: 11.2216 - val_acc: 0.3038\n",
      "Epoch 24/30\n",
      "16747/16747 [==============================] - 2s 133us/step - loss: 11.0806 - acc: 0.3125 - val_loss: 11.2216 - val_acc: 0.3038\n",
      "Epoch 25/30\n",
      "16747/16747 [==============================] - 2s 134us/step - loss: 11.0806 - acc: 0.3125 - val_loss: 11.2216 - val_acc: 0.3038\n",
      "Epoch 26/30\n",
      "16747/16747 [==============================] - 2s 133us/step - loss: 11.0806 - acc: 0.3125 - val_loss: 11.2216 - val_acc: 0.3038\n",
      "Epoch 27/30\n",
      "16747/16747 [==============================] - 2s 133us/step - loss: 11.0806 - acc: 0.3125 - val_loss: 11.2216 - val_acc: 0.3038\n",
      "Epoch 28/30\n",
      "16747/16747 [==============================] - 2s 132us/step - loss: 11.0806 - acc: 0.3125 - val_loss: 11.2216 - val_acc: 0.3038\n",
      "Epoch 29/30\n",
      "16747/16747 [==============================] - 2s 133us/step - loss: 11.0806 - acc: 0.3125 - val_loss: 11.2216 - val_acc: 0.3038\n",
      "Epoch 30/30\n",
      "16747/16747 [==============================] - 2s 133us/step - loss: 11.0806 - acc: 0.3125 - val_loss: 11.2216 - val_acc: 0.3038\n"
     ]
    },
    {
     "data": {
      "text/plain": [
       "<keras.callbacks.History at 0x7f2eea1ef5f8>"
      ]
     },
     "execution_count": 101,
     "metadata": {},
     "output_type": "execute_result"
    }
   ],
   "source": [
    "cnn_model.fit(X_train, Y_train, epochs = 30, batch_size = 256, validation_split=0.15)"
   ]
  },
  {
   "cell_type": "code",
   "execution_count": 102,
   "metadata": {},
   "outputs": [
    {
     "name": "stdout",
     "output_type": "stream",
     "text": [
      "3478/3478 [==============================] - 0s 136us/step\n",
      "Loss = 11.099148458554321\n",
      "Test Accuracy = 0.3113858540247335\n"
     ]
    }
   ],
   "source": [
    "preds = cnn_model.evaluate(X_test, Y_test)\n",
    "print (\"Loss = \" + str(preds[0]))\n",
    "print (\"Test Accuracy = \" + str(preds[1]))"
   ]
  },
  {
   "cell_type": "markdown",
   "metadata": {},
   "source": [
    "# Simplified CNN model with BatchNorm"
   ]
  },
  {
   "cell_type": "code",
   "execution_count": 103,
   "metadata": {},
   "outputs": [],
   "source": [
    "def CNN_b_model(input_shape=(31,31,8), classes=2):\n",
    "    \n",
    "    \n",
    "    X_input = Input(input_shape)\n",
    "    \n",
    "    X = ZeroPadding2D((1,1))(X_input)\n",
    "    X = Conv2D(64, 3, name='conv1')(X)\n",
    "    X = BatchNormalization(name='batch1')(X)\n",
    "    X = Activation('relu')(X)\n",
    "    X = MaxPooling2D(name='pool1')(X)\n",
    "    print('conv1\\t',X.get_shape())\n",
    "    \n",
    "    X = Flatten()(X)\n",
    "    X = Dense(1, activation='sigmoid', name='fc')(X)\n",
    "    if classes != 2 : print('oh no, too many classes, change the model output to softmax!')\n",
    "    \n",
    "    model = Model(inputs = X_input, outputs = X, name='CNN_model')\n",
    "    return model"
   ]
  },
  {
   "cell_type": "code",
   "execution_count": 104,
   "metadata": {},
   "outputs": [
    {
     "name": "stdout",
     "output_type": "stream",
     "text": [
      "conv1\t (?, 15, 15, 64)\n"
     ]
    }
   ],
   "source": [
    "cnn_b_model = CNN_b_model(input_shape=(31,31,8))"
   ]
  },
  {
   "cell_type": "code",
   "execution_count": 105,
   "metadata": {},
   "outputs": [],
   "source": [
    "cnn_b_model.compile(optimizer='nadam', loss='binary_crossentropy', metrics=['accuracy'])"
   ]
  },
  {
   "cell_type": "code",
   "execution_count": 106,
   "metadata": {
    "scrolled": true
   },
   "outputs": [
    {
     "name": "stdout",
     "output_type": "stream",
     "text": [
      "Train on 16747 samples, validate on 2956 samples\n",
      "Epoch 1/30\n",
      "16747/16747 [==============================] - 4s 240us/step - loss: 0.4604 - acc: 0.8897 - val_loss: 4.8432 - val_acc: 0.6962\n",
      "Epoch 2/30\n",
      "16747/16747 [==============================] - 3s 171us/step - loss: 0.1812 - acc: 0.9509 - val_loss: 1.7429 - val_acc: 0.6942\n",
      "Epoch 3/30\n",
      "16747/16747 [==============================] - 3s 171us/step - loss: 0.1808 - acc: 0.9516 - val_loss: 0.2896 - val_acc: 0.8934\n",
      "Epoch 4/30\n",
      "16747/16747 [==============================] - 3s 172us/step - loss: 0.1216 - acc: 0.9697 - val_loss: 0.6243 - val_acc: 0.7087\n",
      "Epoch 5/30\n",
      "16747/16747 [==============================] - 3s 172us/step - loss: 0.1214 - acc: 0.9655 - val_loss: 3.5003 - val_acc: 0.6959\n",
      "Epoch 6/30\n",
      "16747/16747 [==============================] - 3s 172us/step - loss: 0.1058 - acc: 0.9707 - val_loss: 11.2081 - val_acc: 0.3041\n",
      "Epoch 7/30\n",
      "16747/16747 [==============================] - 3s 171us/step - loss: 0.0957 - acc: 0.9726 - val_loss: 3.2869 - val_acc: 0.3630\n",
      "Epoch 8/30\n",
      "16747/16747 [==============================] - 3s 171us/step - loss: 0.0834 - acc: 0.9790 - val_loss: 2.6794 - val_acc: 0.6969\n",
      "Epoch 9/30\n",
      "16747/16747 [==============================] - 3s 171us/step - loss: 0.0907 - acc: 0.9727 - val_loss: 10.3265 - val_acc: 0.3038\n",
      "Epoch 10/30\n",
      "16747/16747 [==============================] - 3s 171us/step - loss: 0.0728 - acc: 0.9801 - val_loss: 4.4878 - val_acc: 0.6969\n",
      "Epoch 11/30\n",
      "16747/16747 [==============================] - 3s 172us/step - loss: 0.0737 - acc: 0.9792 - val_loss: 0.4760 - val_acc: 0.8363\n",
      "Epoch 12/30\n",
      "16747/16747 [==============================] - 3s 172us/step - loss: 0.0660 - acc: 0.9824 - val_loss: 3.5297 - val_acc: 0.6979\n",
      "Epoch 13/30\n",
      "16747/16747 [==============================] - 3s 173us/step - loss: 0.0632 - acc: 0.9824 - val_loss: 3.4613 - val_acc: 0.3126\n",
      "Epoch 14/30\n",
      "16747/16747 [==============================] - 3s 172us/step - loss: 0.0828 - acc: 0.9771 - val_loss: 5.0098 - val_acc: 0.3082\n",
      "Epoch 15/30\n",
      "16747/16747 [==============================] - 3s 173us/step - loss: 0.0652 - acc: 0.9828 - val_loss: 3.8539 - val_acc: 0.6969\n",
      "Epoch 16/30\n",
      "16747/16747 [==============================] - 3s 173us/step - loss: 0.0606 - acc: 0.9844 - val_loss: 4.0667 - val_acc: 0.6969\n",
      "Epoch 17/30\n",
      "16747/16747 [==============================] - 3s 172us/step - loss: 0.0608 - acc: 0.9845 - val_loss: 4.8462 - val_acc: 0.6959\n",
      "Epoch 18/30\n",
      "16747/16747 [==============================] - 3s 172us/step - loss: 0.0626 - acc: 0.9844 - val_loss: 4.7269 - val_acc: 0.6969\n",
      "Epoch 19/30\n",
      "16747/16747 [==============================] - 3s 171us/step - loss: 0.0529 - acc: 0.9862 - val_loss: 1.1640 - val_acc: 0.7777\n",
      "Epoch 20/30\n",
      "16747/16747 [==============================] - 3s 172us/step - loss: 0.0510 - acc: 0.9879 - val_loss: 0.1325 - val_acc: 0.9547\n",
      "Epoch 21/30\n",
      "16747/16747 [==============================] - 3s 170us/step - loss: 0.0710 - acc: 0.9820 - val_loss: 10.7514 - val_acc: 0.3072\n",
      "Epoch 22/30\n",
      "16747/16747 [==============================] - 3s 172us/step - loss: 0.0699 - acc: 0.9801 - val_loss: 11.1932 - val_acc: 0.3038\n",
      "Epoch 23/30\n",
      "16747/16747 [==============================] - 3s 172us/step - loss: 0.0656 - acc: 0.9832 - val_loss: 11.2126 - val_acc: 0.3038\n",
      "Epoch 24/30\n",
      "16747/16747 [==============================] - 3s 172us/step - loss: 0.0605 - acc: 0.9858 - val_loss: 10.2960 - val_acc: 0.3062\n",
      "Epoch 25/30\n",
      "16747/16747 [==============================] - 3s 172us/step - loss: 0.0627 - acc: 0.9848 - val_loss: 11.1236 - val_acc: 0.3045\n",
      "Epoch 26/30\n",
      "16747/16747 [==============================] - 3s 172us/step - loss: 0.0499 - acc: 0.9886 - val_loss: 11.0963 - val_acc: 0.3051\n",
      "Epoch 27/30\n",
      "16747/16747 [==============================] - 3s 174us/step - loss: 0.0740 - acc: 0.9796 - val_loss: 0.0912 - val_acc: 0.9790\n",
      "Epoch 28/30\n",
      "16747/16747 [==============================] - 3s 173us/step - loss: 0.0499 - acc: 0.9878 - val_loss: 0.6754 - val_acc: 0.7375\n",
      "Epoch 29/30\n",
      "16747/16747 [==============================] - 3s 173us/step - loss: 0.0516 - acc: 0.9890 - val_loss: 10.1685 - val_acc: 0.3099\n",
      "Epoch 30/30\n",
      "16747/16747 [==============================] - 3s 172us/step - loss: 0.0577 - acc: 0.9854 - val_loss: 8.9665 - val_acc: 0.3075\n"
     ]
    },
    {
     "data": {
      "text/plain": [
       "<keras.callbacks.History at 0x7f2ee9ce5b70>"
      ]
     },
     "execution_count": 106,
     "metadata": {},
     "output_type": "execute_result"
    }
   ],
   "source": [
    "cnn_b_model.fit(X_train, Y_train, epochs = 30, batch_size = 256, validation_split=0.15)"
   ]
  },
  {
   "cell_type": "code",
   "execution_count": 107,
   "metadata": {},
   "outputs": [
    {
     "name": "stdout",
     "output_type": "stream",
     "text": [
      "3478/3478 [==============================] - 1s 161us/step\n",
      "Loss = 8.968715310439492\n",
      "Test Accuracy = 0.3142610696659066\n"
     ]
    }
   ],
   "source": [
    "preds = cnn_b_model.evaluate(X_test, Y_test)\n",
    "print (\"Loss = \" + str(preds[0]))\n",
    "print (\"Test Accuracy = \" + str(preds[1]))"
   ]
  },
  {
   "cell_type": "code",
   "execution_count": null,
   "metadata": {},
   "outputs": [],
   "source": []
  },
  {
   "cell_type": "markdown",
   "metadata": {},
   "source": [
    "# Simplified 3D CNN model"
   ]
  },
  {
   "cell_type": "code",
   "execution_count": 108,
   "metadata": {
    "scrolled": true
   },
   "outputs": [
    {
     "name": "stdout",
     "output_type": "stream",
     "text": [
      "X_3d_train shape: (19703, 31, 31, 8, 1)\n",
      "Y_train shape: (19703, 1)\n",
      "X_3d_test shape: (3478, 31, 31, 8, 1)\n",
      "Y_test shape: (3478, 1)\n",
      "CPU times: user 2.93 s, sys: 343 ms, total: 3.27 s\n",
      "Wall time: 3.23 s\n"
     ]
    }
   ],
   "source": [
    "%%time\n",
    "\n",
    "X_ddd_train = np.array([X_train.T]).T\n",
    "X_ddd_test = np.array([X_test.T]).T\n",
    "\n",
    "print (\"X_3d_train shape: \" + str(X_ddd_train.shape))\n",
    "print (\"Y_train shape: \" + str(Y_train.shape))\n",
    "print (\"X_3d_test shape: \" + str(X_ddd_test.shape))\n",
    "print (\"Y_test shape: \" + str(Y_test.shape))"
   ]
  },
  {
   "cell_type": "code",
   "execution_count": 109,
   "metadata": {},
   "outputs": [],
   "source": [
    "def DDD_model(input_shape=(31,31,8,1), classes=2):\n",
    "    \n",
    "    \n",
    "    X_input = Input(input_shape)\n",
    "    \n",
    "    X = ZeroPadding3D()(X_input)\n",
    "    X = Conv3D(64, 3, name='conv1')(X)\n",
    "    #X = BatchNormalization(name='batch1')(X)\n",
    "    X = Activation('relu')(X)\n",
    "    X = MaxPooling3D(name='pool1')(X)\n",
    "    print('conv1\\t',X.get_shape())\n",
    "    \n",
    "    X = Conv3D(128, 3, name='conv2')(X)\n",
    "    #X = BatchNormalization(name='batch2')(X)\n",
    "    X = Activation('relu')(X)\n",
    "    X = MaxPooling3D(name='pool2')(X)\n",
    "    print('conv2\\t',X.get_shape())\n",
    "    \n",
    "    X = Flatten()(X)\n",
    "    X = Dense(1, activation='sigmoid', name='fc')(X)\n",
    "    if classes != 2 : print('oh no, too many classes, change the model output to softmax!')\n",
    "    \n",
    "    model = Model(inputs = X_input, outputs = X, name='3D_CNN_model')\n",
    "    return model"
   ]
  },
  {
   "cell_type": "code",
   "execution_count": 110,
   "metadata": {},
   "outputs": [
    {
     "name": "stdout",
     "output_type": "stream",
     "text": [
      "conv1\t (?, 15, 15, 4, 64)\n",
      "conv2\t (?, 6, 6, 1, 128)\n"
     ]
    }
   ],
   "source": [
    "ddd_model = DDD_model(input_shape=(31,31,8,1))"
   ]
  },
  {
   "cell_type": "code",
   "execution_count": 111,
   "metadata": {},
   "outputs": [],
   "source": [
    "ddd_model.compile(optimizer='nadam', loss='binary_crossentropy', metrics=['accuracy'])"
   ]
  },
  {
   "cell_type": "code",
   "execution_count": 112,
   "metadata": {
    "scrolled": true
   },
   "outputs": [
    {
     "name": "stdout",
     "output_type": "stream",
     "text": [
      "Train on 16747 samples, validate on 2956 samples\n",
      "Epoch 1/3\n",
      "16747/16747 [==============================] - 21s 1ms/step - loss: 4.9568 - acc: 0.6843 - val_loss: 4.8431 - val_acc: 0.6962\n",
      "Epoch 2/3\n",
      "16747/16747 [==============================] - 19s 1ms/step - loss: 4.9825 - acc: 0.6875 - val_loss: 4.8431 - val_acc: 0.6962\n",
      "Epoch 3/3\n",
      "16747/16747 [==============================] - 19s 1ms/step - loss: 4.9825 - acc: 0.6875 - val_loss: 4.8431 - val_acc: 0.6962\n"
     ]
    },
    {
     "data": {
      "text/plain": [
       "<keras.callbacks.History at 0x7f2ee975be48>"
      ]
     },
     "execution_count": 112,
     "metadata": {},
     "output_type": "execute_result"
    }
   ],
   "source": [
    "ddd_model.fit(X_ddd_train, Y_train, epochs = 3, batch_size = 128, validation_split=0.15)"
   ]
  },
  {
   "cell_type": "code",
   "execution_count": 113,
   "metadata": {},
   "outputs": [
    {
     "name": "stdout",
     "output_type": "stream",
     "text": [
      "3478/3478 [==============================] - 2s 592us/step\n",
      "Loss = 4.9642333353710555\n",
      "Test Accuracy = 0.6886141461637802\n"
     ]
    }
   ],
   "source": [
    "preds = ddd_model.evaluate(X_ddd_test, Y_test)\n",
    "print (\"Loss = \" + str(preds[0]))\n",
    "print (\"Test Accuracy = \" + str(preds[1]))"
   ]
  },
  {
   "cell_type": "code",
   "execution_count": null,
   "metadata": {},
   "outputs": [],
   "source": []
  }
 ],
 "metadata": {
  "kernelspec": {
   "display_name": "Python 3",
   "language": "python",
   "name": "python3"
  },
  "language_info": {
   "codemirror_mode": {
    "name": "ipython",
    "version": 3
   },
   "file_extension": ".py",
   "mimetype": "text/x-python",
   "name": "python",
   "nbconvert_exporter": "python",
   "pygments_lexer": "ipython3",
   "version": "3.6.4"
  }
 },
 "nbformat": 4,
 "nbformat_minor": 2
}
