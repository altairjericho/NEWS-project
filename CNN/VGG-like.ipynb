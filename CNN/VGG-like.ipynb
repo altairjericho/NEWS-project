{
 "cells": [
  {
   "cell_type": "code",
   "execution_count": 3,
   "metadata": {
    "scrolled": true
   },
   "outputs": [],
   "source": [
    "import numpy as np\n",
    "import pandas as pd\n",
    "import os\n",
    "import shutil\n",
    "import re\n",
    "import matplotlib.pyplot as plt\n",
    "from sklearn.model_selection import train_test_split\n",
    "\n",
    "import keras\n",
    "from keras.layers import Input, Dense, Activation, ZeroPadding2D, BatchNormalization, Flatten, Conv2D, MaxPooling2D, Dropout\n",
    "from keras.layers import ZeroPadding3D, Conv3D, MaxPooling3D\n",
    "from keras import optimizers\n",
    "from keras.models import Model\n",
    "\n",
    "import tensorflow as tf\n",
    "import keras.backend as K\n",
    "K.set_image_data_format('channels_last')\n",
    "\n",
    "%matplotlib inline"
   ]
  },
  {
   "cell_type": "code",
   "execution_count": 4,
   "metadata": {},
   "outputs": [
    {
     "name": "stdout",
     "output_type": "stream",
     "text": [
      "[name: \"/device:CPU:0\"\n",
      "device_type: \"CPU\"\n",
      "memory_limit: 268435456\n",
      "locality {\n",
      "}\n",
      "incarnation: 6044510716843589394\n",
      ", name: \"/device:GPU:0\"\n",
      "device_type: \"GPU\"\n",
      "memory_limit: 2657746944\n",
      "locality {\n",
      "  bus_id: 1\n",
      "}\n",
      "incarnation: 11742031193868892202\n",
      "physical_device_desc: \"device: 0, name: GeForce GTX 780, pci bus id: 0000:03:00.0, compute capability: 3.5\"\n",
      "]\n"
     ]
    }
   ],
   "source": [
    "from tensorflow.python.client import device_lib\n",
    "# TensorFlow wizardry\n",
    "config = tf.ConfigProto() \n",
    "# Don't pre-allocate memory; allocate as-needed\n",
    "config.gpu_options.allow_growth = True \n",
    "# Only allow a total of half the GPU memory to be allocated\n",
    "config.gpu_options.per_process_gpu_memory_fraction = 0.5 \n",
    "# Create a session with the above options specified.\n",
    "K.tensorflow_backend.set_session(tf.Session(config=config))\n",
    "print(device_lib.list_local_devices())"
   ]
  },
  {
   "cell_type": "code",
   "execution_count": 5,
   "metadata": {},
   "outputs": [],
   "source": [
    "path = \"/mnt/ML-drive/scanner-ml/Artem/share/Valerio/\"\n",
    "class_names = ['C100keV','TestSample']\n",
    "n_pols = 8"
   ]
  },
  {
   "cell_type": "code",
   "execution_count": 6,
   "metadata": {},
   "outputs": [],
   "source": [
    "def load_images(path, name_dir='TestSample', n_pols=8):\n",
    "    \n",
    "    img_ind = []\n",
    "    path = path+name_dir+\"/crops/\"\n",
    "    img_names = os.listdir(path)\n",
    "    for name in img_names:\n",
    "        img_ind.append(re.split('[_.]',name))\n",
    "    img_ind = pd.DataFrame(np.array(img_ind),columns=['ViewID','gr','GrainID','pol','Polarization','cl','ClusterID','csv'])\n",
    "    img_ind = img_ind.drop(['csv'],axis=1).sort_values(['ViewID','GrainID','Polarization'])\n",
    "    for view in np.unique(img_ind['ViewID']):\n",
    "        view_imgs = img_ind[ img_ind['ViewID']==view ]\n",
    "        for grain in np.unique(view_imgs['GrainID']):\n",
    "            grain_imgs = view_imgs[ view_imgs['GrainID']==grain ]\n",
    "            if grain_imgs.shape[0]!=8:\n",
    "                img_ind = img_ind.drop(grain_imgs.index)\n",
    "    img_names = []\n",
    "    for name in img_ind.values:\n",
    "        img_names.append('_'.join(name)+'.csv')\n",
    "    \n",
    "    i=0\n",
    "    im_array = []\n",
    "    for name in img_names:\n",
    "        if i==0 : tmp_im = []\n",
    "        tmp_im.append(pd.read_csv(path+name, header=None).drop(31, axis=1).values)\n",
    "        i+=1\n",
    "        if i==n_pols:\n",
    "            im_array.append(np.array(tmp_im).T)\n",
    "            i=0\n",
    "    return np.array(im_array)"
   ]
  },
  {
   "cell_type": "code",
   "execution_count": 7,
   "metadata": {
    "scrolled": true
   },
   "outputs": [
    {
     "name": "stdout",
     "output_type": "stream",
     "text": [
      "number of training examples = 19703\n",
      "number of test examples = 3478\n",
      "X_train shape: (19703, 31, 31, 8)\n",
      "Y_train shape: (19703, 1)\n",
      "X_test shape: (3478, 31, 31, 8)\n",
      "Y_test shape: (3478, 1)\n",
      "CPU times: user 8min 36s, sys: 10.2 s, total: 8min 46s\n",
      "Wall time: 9min 22s\n"
     ]
    }
   ],
   "source": [
    "%%time\n",
    "X_sign = load_images(path, 'C100keV')\n",
    "y_sign = np.ones((X_sign.shape[0],1))\n",
    "X_noise = load_images(path, 'TestSample')\n",
    "y_noise = np.zeros((X_noise.shape[0],1))\n",
    "\n",
    "X = np.vstack((X_sign, X_noise))\n",
    "y = np.vstack((y_sign, y_noise))\n",
    "\n",
    "X_train, X_test, Y_train, Y_test = train_test_split(X, y, test_size=0.15, stratify=y)\n",
    "\n",
    "# Normalize image vectors (????)\n",
    "#X_train = X_train_orig/255.\n",
    "#X_test = X_test_orig/255.\n",
    "\n",
    "print (\"number of training examples = \" + str(X_train.shape[0]))\n",
    "print (\"number of test examples = \" + str(X_test.shape[0]))\n",
    "print (\"X_train shape: \" + str(X_train.shape))\n",
    "print (\"Y_train shape: \" + str(Y_train.shape))\n",
    "print (\"X_test shape: \" + str(X_test.shape))\n",
    "print (\"Y_test shape: \" + str(Y_test.shape))"
   ]
  },
  {
   "cell_type": "markdown",
   "metadata": {},
   "source": [
    "# Sergey-like VGG model"
   ]
  },
  {
   "cell_type": "code",
   "execution_count": 8,
   "metadata": {},
   "outputs": [],
   "source": [
    "def VGG_model(input_shape=(31,31,8), classes=2):\n",
    "    \n",
    "    \n",
    "    X_input = Input(input_shape)\n",
    "    \n",
    "    X = ZeroPadding2D((1,1))(X_input)\n",
    "    X = Conv2D(64, 3, activation='relu', name='conv1_1')(X)\n",
    "    X = ZeroPadding2D((1,1))(X)\n",
    "    X = Conv2D(64, 3, name='conv1_2')(X)\n",
    "    #X = BatchNormalization(name='batch1')(X)\n",
    "    X = Activation('relu')(X)\n",
    "    X = MaxPooling2D(name='pool1')(X)\n",
    "    print('conv1\\t',X.get_shape())\n",
    "    \n",
    "    X = ZeroPadding2D((1,1))(X)\n",
    "    X = Conv2D(128, 3, name='conv2')(X)\n",
    "    #X = BatchNormalization(name='batch2')(X)\n",
    "    X = Activation('relu')(X)\n",
    "    X = MaxPooling2D(name='pool2')(X)\n",
    "    print('conv2\\t',X.get_shape())\n",
    "    \n",
    "    X = Dropout(rate=0.5, name='drop_middle')(X)\n",
    "    \n",
    "    X = ZeroPadding2D((1,1))(X)\n",
    "    X = Conv2D(256, 3, name='conv3')(X)\n",
    "    #X = BatchNormalization(name='batch3')(X)\n",
    "    X = Activation('relu')(X)\n",
    "    X = MaxPooling2D(name='pool3')(X)\n",
    "    print('conv3\\t',X.get_shape())\n",
    "    \n",
    "    X = ZeroPadding2D((1,1))(X)\n",
    "    X = Conv2D(512, 3, name='conv4')(X)\n",
    "    #X = BatchNormalization(name='batch4')(X)\n",
    "    X = Activation('relu')(X)\n",
    "    X = MaxPooling2D(name='pool4')(X)\n",
    "    print('conv4\\t',X.get_shape())\n",
    "    \n",
    "    X = Dropout(rate=0.5, name='drop')(X)\n",
    "    \n",
    "    X = Flatten()(X)\n",
    "    X = Dense(1, activation='sigmoid', name='fc')(X)\n",
    "    if classes != 2 : print('oh no, too many classes, change the model output to softmax!')\n",
    "    \n",
    "    model = Model(inputs = X_input, outputs = X, name='VGG_model')\n",
    "    return model"
   ]
  },
  {
   "cell_type": "code",
   "execution_count": 24,
   "metadata": {
    "scrolled": true
   },
   "outputs": [
    {
     "name": "stdout",
     "output_type": "stream",
     "text": [
      "conv1\t (?, 15, 15, 64)\n",
      "conv2\t (?, 7, 7, 128)\n",
      "conv3\t (?, 3, 3, 256)\n",
      "conv4\t (?, 1, 1, 512)\n"
     ]
    }
   ],
   "source": [
    "model = VGG_model(input_shape=(31,31,8))"
   ]
  },
  {
   "cell_type": "code",
   "execution_count": 25,
   "metadata": {},
   "outputs": [],
   "source": [
    "adamka = keras.optimizers.Adam(lr=1e-5)\n",
    "model.compile(optimizer=adamka, loss='binary_crossentropy', metrics=['accuracy'])"
   ]
  },
  {
   "cell_type": "code",
   "execution_count": 26,
   "metadata": {
    "scrolled": true
   },
   "outputs": [
    {
     "name": "stdout",
     "output_type": "stream",
     "text": [
      "Train on 16747 samples, validate on 2956 samples\n",
      "Epoch 1/100\n",
      "16747/16747 [==============================] - 15s 912us/step - loss: 0.7965 - acc: 0.6274 - val_loss: 0.6050 - val_acc: 0.6888\n",
      "Epoch 2/100\n",
      "16747/16747 [==============================] - 15s 877us/step - loss: 0.6056 - acc: 0.6807 - val_loss: 0.5743 - val_acc: 0.6911\n",
      "Epoch 3/100\n",
      "16747/16747 [==============================] - 15s 890us/step - loss: 0.5658 - acc: 0.7034 - val_loss: 0.5486 - val_acc: 0.7693\n",
      "Epoch 4/100\n",
      "16747/16747 [==============================] - 15s 880us/step - loss: 0.5380 - acc: 0.7251 - val_loss: 0.5095 - val_acc: 0.7693\n",
      "Epoch 5/100\n",
      "16747/16747 [==============================] - 29s 2ms/step - loss: 0.5077 - acc: 0.7563 - val_loss: 0.4690 - val_acc: 0.8237\n",
      "Epoch 6/100\n",
      "16747/16747 [==============================] - 65s 4ms/step - loss: 0.4703 - acc: 0.7891 - val_loss: 0.4213 - val_acc: 0.8400\n",
      "Epoch 7/100\n",
      "16747/16747 [==============================] - 60s 4ms/step - loss: 0.4320 - acc: 0.8108 - val_loss: 0.3805 - val_acc: 0.8698\n",
      "Epoch 8/100\n",
      "16747/16747 [==============================] - 61s 4ms/step - loss: 0.4018 - acc: 0.8277 - val_loss: 0.3501 - val_acc: 0.8779\n",
      "Epoch 9/100\n",
      "16747/16747 [==============================] - 59s 3ms/step - loss: 0.3683 - acc: 0.8406 - val_loss: 0.3186 - val_acc: 0.8846\n",
      "Epoch 10/100\n",
      "16747/16747 [==============================] - 59s 3ms/step - loss: 0.3478 - acc: 0.8508 - val_loss: 0.3073 - val_acc: 0.8708\n",
      "Epoch 11/100\n",
      "16747/16747 [==============================] - 63s 4ms/step - loss: 0.3416 - acc: 0.8514 - val_loss: 0.3216 - val_acc: 0.8714\n",
      "Epoch 12/100\n",
      "16747/16747 [==============================] - 58s 3ms/step - loss: 0.3308 - acc: 0.8577 - val_loss: 0.3466 - val_acc: 0.8305\n",
      "Epoch 13/100\n",
      "16747/16747 [==============================] - 58s 3ms/step - loss: 0.3152 - acc: 0.8640 - val_loss: 0.2817 - val_acc: 0.8816\n",
      "Epoch 14/100\n",
      "16747/16747 [==============================] - 60s 4ms/step - loss: 0.3106 - acc: 0.8639 - val_loss: 0.2902 - val_acc: 0.8704\n",
      "Epoch 15/100\n",
      "16747/16747 [==============================] - 58s 3ms/step - loss: 0.3107 - acc: 0.8648 - val_loss: 0.2618 - val_acc: 0.8999\n",
      "Epoch 16/100\n",
      "16747/16747 [==============================] - 59s 4ms/step - loss: 0.3039 - acc: 0.8685 - val_loss: 0.2578 - val_acc: 0.8951\n",
      "Epoch 17/100\n",
      "16747/16747 [==============================] - 62s 4ms/step - loss: 0.2950 - acc: 0.8719 - val_loss: 0.2504 - val_acc: 0.9009\n",
      "Epoch 18/100\n",
      "16747/16747 [==============================] - 57s 3ms/step - loss: 0.2900 - acc: 0.8740 - val_loss: 0.2570 - val_acc: 0.8958\n",
      "Epoch 19/100\n",
      "16747/16747 [==============================] - 58s 3ms/step - loss: 0.2896 - acc: 0.8738 - val_loss: 0.2418 - val_acc: 0.9026\n",
      "Epoch 20/100\n",
      "16747/16747 [==============================] - 61s 4ms/step - loss: 0.2840 - acc: 0.8778 - val_loss: 0.2607 - val_acc: 0.8873\n",
      "Epoch 21/100\n",
      "16747/16747 [==============================] - 59s 4ms/step - loss: 0.2868 - acc: 0.8722 - val_loss: 0.4361 - val_acc: 0.7984\n",
      "Epoch 22/100\n",
      "16747/16747 [==============================] - 60s 4ms/step - loss: 0.2868 - acc: 0.8763 - val_loss: 0.2326 - val_acc: 0.9066\n",
      "Epoch 23/100\n",
      "16747/16747 [==============================] - 59s 4ms/step - loss: 0.2708 - acc: 0.8848 - val_loss: 0.2363 - val_acc: 0.9090\n",
      "Epoch 24/100\n",
      "16747/16747 [==============================] - 59s 4ms/step - loss: 0.2661 - acc: 0.8849 - val_loss: 0.2283 - val_acc: 0.9120\n",
      "Epoch 25/100\n",
      "16747/16747 [==============================] - 60s 4ms/step - loss: 0.2651 - acc: 0.8866 - val_loss: 0.2470 - val_acc: 0.9032\n",
      "Epoch 26/100\n",
      "16747/16747 [==============================] - 60s 4ms/step - loss: 0.2672 - acc: 0.8871 - val_loss: 0.2624 - val_acc: 0.9005\n",
      "Epoch 27/100\n",
      "16747/16747 [==============================] - 60s 4ms/step - loss: 0.2690 - acc: 0.8849 - val_loss: 0.2333 - val_acc: 0.9107\n",
      "Epoch 28/100\n",
      "16747/16747 [==============================] - 59s 4ms/step - loss: 0.2562 - acc: 0.8941 - val_loss: 0.2157 - val_acc: 0.9154\n",
      "Epoch 29/100\n",
      "16747/16747 [==============================] - 61s 4ms/step - loss: 0.2591 - acc: 0.8889 - val_loss: 0.2250 - val_acc: 0.9144\n",
      "Epoch 30/100\n",
      "16747/16747 [==============================] - 56s 3ms/step - loss: 0.2505 - acc: 0.8943 - val_loss: 0.2143 - val_acc: 0.9161\n",
      "Epoch 31/100\n",
      "16747/16747 [==============================] - 59s 3ms/step - loss: 0.2542 - acc: 0.8934 - val_loss: 0.2270 - val_acc: 0.9049\n",
      "Epoch 32/100\n",
      "16747/16747 [==============================] - 61s 4ms/step - loss: 0.2444 - acc: 0.8970 - val_loss: 0.2106 - val_acc: 0.9215\n",
      "Epoch 33/100\n",
      "16747/16747 [==============================] - 62s 4ms/step - loss: 0.2474 - acc: 0.8985 - val_loss: 0.2042 - val_acc: 0.9175\n",
      "Epoch 34/100\n",
      "16747/16747 [==============================] - 59s 4ms/step - loss: 0.2447 - acc: 0.8975 - val_loss: 0.2228 - val_acc: 0.9168\n",
      "Epoch 35/100\n",
      "16747/16747 [==============================] - 59s 4ms/step - loss: 0.2430 - acc: 0.8993 - val_loss: 0.2155 - val_acc: 0.9202\n",
      "Epoch 36/100\n",
      "16747/16747 [==============================] - 62s 4ms/step - loss: 0.2381 - acc: 0.9015 - val_loss: 0.2607 - val_acc: 0.8985\n",
      "Epoch 37/100\n",
      "16747/16747 [==============================] - 59s 4ms/step - loss: 0.2409 - acc: 0.8996 - val_loss: 0.2337 - val_acc: 0.9100\n",
      "Epoch 38/100\n",
      "16747/16747 [==============================] - 59s 4ms/step - loss: 0.2365 - acc: 0.9014 - val_loss: 0.1948 - val_acc: 0.9229\n",
      "Epoch 39/100\n",
      "16747/16747 [==============================] - 58s 3ms/step - loss: 0.2301 - acc: 0.9051 - val_loss: 0.2239 - val_acc: 0.9158\n",
      "Epoch 40/100\n",
      "16747/16747 [==============================] - 58s 3ms/step - loss: 0.2313 - acc: 0.9040 - val_loss: 0.2054 - val_acc: 0.9168\n",
      "Epoch 41/100\n",
      "16747/16747 [==============================] - 59s 4ms/step - loss: 0.2268 - acc: 0.9034 - val_loss: 0.2089 - val_acc: 0.9222\n",
      "Epoch 42/100\n",
      "16747/16747 [==============================] - 58s 3ms/step - loss: 0.2278 - acc: 0.9051 - val_loss: 0.2579 - val_acc: 0.8958\n",
      "Epoch 43/100\n",
      "16747/16747 [==============================] - 59s 4ms/step - loss: 0.2249 - acc: 0.9053 - val_loss: 0.1891 - val_acc: 0.9246\n",
      "Epoch 44/100\n",
      "16747/16747 [==============================] - 58s 3ms/step - loss: 0.2243 - acc: 0.9067 - val_loss: 0.2069 - val_acc: 0.9229\n",
      "Epoch 45/100\n",
      "16747/16747 [==============================] - 58s 3ms/step - loss: 0.2228 - acc: 0.9113 - val_loss: 0.1830 - val_acc: 0.9290\n",
      "Epoch 46/100\n",
      "16747/16747 [==============================] - 59s 4ms/step - loss: 0.2147 - acc: 0.9116 - val_loss: 0.1822 - val_acc: 0.9296\n",
      "Epoch 47/100\n",
      "16747/16747 [==============================] - 59s 4ms/step - loss: 0.2251 - acc: 0.9049 - val_loss: 0.2000 - val_acc: 0.9266\n",
      "Epoch 48/100\n",
      "16747/16747 [==============================] - 58s 3ms/step - loss: 0.2165 - acc: 0.9101 - val_loss: 0.1797 - val_acc: 0.9306\n",
      "Epoch 49/100\n",
      "16747/16747 [==============================] - 58s 3ms/step - loss: 0.2171 - acc: 0.9108 - val_loss: 0.1777 - val_acc: 0.9317\n",
      "Epoch 50/100\n",
      "16747/16747 [==============================] - 58s 3ms/step - loss: 0.2131 - acc: 0.9106 - val_loss: 0.2896 - val_acc: 0.8846\n",
      "Epoch 51/100\n",
      "16747/16747 [==============================] - 59s 4ms/step - loss: 0.2165 - acc: 0.9105 - val_loss: 0.2167 - val_acc: 0.9198\n",
      "Epoch 52/100\n",
      "16747/16747 [==============================] - 59s 4ms/step - loss: 0.2051 - acc: 0.9179 - val_loss: 0.1720 - val_acc: 0.9323\n",
      "Epoch 53/100\n",
      "16747/16747 [==============================] - 58s 3ms/step - loss: 0.2141 - acc: 0.9114 - val_loss: 0.1734 - val_acc: 0.9347\n",
      "Epoch 54/100\n",
      "16747/16747 [==============================] - 58s 3ms/step - loss: 0.2077 - acc: 0.9140 - val_loss: 0.1723 - val_acc: 0.9330\n",
      "Epoch 55/100\n",
      "16747/16747 [==============================] - 59s 4ms/step - loss: 0.2084 - acc: 0.9146 - val_loss: 0.1707 - val_acc: 0.9327\n",
      "Epoch 56/100\n",
      "16747/16747 [==============================] - 58s 3ms/step - loss: 0.2056 - acc: 0.9155 - val_loss: 0.1757 - val_acc: 0.9313\n",
      "Epoch 57/100\n",
      "16747/16747 [==============================] - 59s 4ms/step - loss: 0.2085 - acc: 0.9148 - val_loss: 0.1772 - val_acc: 0.9310\n",
      "Epoch 58/100\n",
      "16747/16747 [==============================] - 58s 3ms/step - loss: 0.2014 - acc: 0.9174 - val_loss: 0.1678 - val_acc: 0.9350\n",
      "Epoch 59/100\n"
     ]
    },
    {
     "name": "stdout",
     "output_type": "stream",
     "text": [
      "16747/16747 [==============================] - 73s 4ms/step - loss: 0.2007 - acc: 0.9184 - val_loss: 0.1665 - val_acc: 0.9364\n",
      "Epoch 60/100\n",
      "16747/16747 [==============================] - 77s 5ms/step - loss: 0.2081 - acc: 0.9147 - val_loss: 0.1705 - val_acc: 0.9361\n",
      "Epoch 61/100\n",
      "16747/16747 [==============================] - 69s 4ms/step - loss: 0.2018 - acc: 0.9171 - val_loss: 0.1668 - val_acc: 0.9361\n",
      "Epoch 62/100\n",
      "16747/16747 [==============================] - 73s 4ms/step - loss: 0.1969 - acc: 0.9212 - val_loss: 0.2195 - val_acc: 0.9164\n",
      "Epoch 63/100\n",
      "16747/16747 [==============================] - 74s 4ms/step - loss: 0.1982 - acc: 0.9206 - val_loss: 0.1972 - val_acc: 0.9293\n",
      "Epoch 64/100\n",
      "16747/16747 [==============================] - 74s 4ms/step - loss: 0.1921 - acc: 0.9227 - val_loss: 0.1912 - val_acc: 0.9283\n",
      "Epoch 65/100\n",
      "16747/16747 [==============================] - 74s 4ms/step - loss: 0.1904 - acc: 0.9252 - val_loss: 0.1723 - val_acc: 0.9327\n",
      "Epoch 66/100\n",
      "16747/16747 [==============================] - 70s 4ms/step - loss: 0.1950 - acc: 0.9202 - val_loss: 0.2351 - val_acc: 0.9104\n",
      "Epoch 67/100\n",
      "16747/16747 [==============================] - 75s 4ms/step - loss: 0.1921 - acc: 0.9216 - val_loss: 0.1622 - val_acc: 0.9381\n",
      "Epoch 68/100\n",
      "16747/16747 [==============================] - 76s 5ms/step - loss: 0.1992 - acc: 0.9167 - val_loss: 0.1615 - val_acc: 0.9384\n",
      "Epoch 69/100\n",
      "16747/16747 [==============================] - 75s 5ms/step - loss: 0.1914 - acc: 0.9223 - val_loss: 0.1587 - val_acc: 0.9398\n",
      "Epoch 70/100\n",
      "16747/16747 [==============================] - 72s 4ms/step - loss: 0.1869 - acc: 0.9252 - val_loss: 0.2053 - val_acc: 0.9134\n",
      "Epoch 71/100\n",
      "16747/16747 [==============================] - 75s 5ms/step - loss: 0.1891 - acc: 0.9242 - val_loss: 0.2329 - val_acc: 0.9107\n",
      "Epoch 72/100\n",
      "16747/16747 [==============================] - 65s 4ms/step - loss: 0.1839 - acc: 0.9258 - val_loss: 0.1585 - val_acc: 0.9398\n",
      "Epoch 73/100\n",
      "16747/16747 [==============================] - 60s 4ms/step - loss: 0.1817 - acc: 0.9266 - val_loss: 0.2213 - val_acc: 0.9147\n",
      "Epoch 74/100\n",
      "16747/16747 [==============================] - 62s 4ms/step - loss: 0.1829 - acc: 0.9267 - val_loss: 0.1532 - val_acc: 0.9418\n",
      "Epoch 75/100\n",
      "16747/16747 [==============================] - 60s 4ms/step - loss: 0.1794 - acc: 0.9277 - val_loss: 0.1567 - val_acc: 0.9442\n",
      "Epoch 76/100\n",
      "16747/16747 [==============================] - 58s 3ms/step - loss: 0.1778 - acc: 0.9288 - val_loss: 0.1789 - val_acc: 0.9334\n",
      "Epoch 77/100\n",
      "16747/16747 [==============================] - 62s 4ms/step - loss: 0.1773 - acc: 0.9289 - val_loss: 0.2461 - val_acc: 0.9080\n",
      "Epoch 78/100\n",
      "16747/16747 [==============================] - 60s 4ms/step - loss: 0.1868 - acc: 0.9256 - val_loss: 0.1599 - val_acc: 0.9384\n",
      "Epoch 79/100\n",
      "16747/16747 [==============================] - 58s 3ms/step - loss: 0.1746 - acc: 0.9291 - val_loss: 0.1501 - val_acc: 0.9445\n",
      "Epoch 80/100\n",
      "16747/16747 [==============================] - 59s 4ms/step - loss: 0.1744 - acc: 0.9299 - val_loss: 0.1760 - val_acc: 0.9347\n",
      "Epoch 81/100\n",
      "16747/16747 [==============================] - 60s 4ms/step - loss: 0.1893 - acc: 0.9249 - val_loss: 0.1915 - val_acc: 0.9290\n",
      "Epoch 82/100\n",
      "16747/16747 [==============================] - 58s 3ms/step - loss: 0.1698 - acc: 0.9315 - val_loss: 0.1893 - val_acc: 0.9296\n",
      "Epoch 83/100\n",
      "16747/16747 [==============================] - 58s 3ms/step - loss: 0.1798 - acc: 0.9270 - val_loss: 0.2033 - val_acc: 0.9229\n",
      "Epoch 84/100\n",
      "16747/16747 [==============================] - 59s 4ms/step - loss: 0.1803 - acc: 0.9276 - val_loss: 0.1546 - val_acc: 0.9405\n",
      "Epoch 85/100\n",
      "16747/16747 [==============================] - 58s 3ms/step - loss: 0.1718 - acc: 0.9312 - val_loss: 0.1579 - val_acc: 0.9415\n",
      "Epoch 86/100\n",
      "16747/16747 [==============================] - 58s 3ms/step - loss: 0.1734 - acc: 0.9301 - val_loss: 0.1659 - val_acc: 0.9340\n",
      "Epoch 87/100\n",
      "16747/16747 [==============================] - 61s 4ms/step - loss: 0.1698 - acc: 0.9309 - val_loss: 0.1456 - val_acc: 0.9442\n",
      "Epoch 88/100\n",
      "16747/16747 [==============================] - 65s 4ms/step - loss: 0.1665 - acc: 0.9343 - val_loss: 0.2391 - val_acc: 0.9066\n",
      "Epoch 89/100\n",
      "16747/16747 [==============================] - 61s 4ms/step - loss: 0.1661 - acc: 0.9343 - val_loss: 0.1678 - val_acc: 0.9378\n",
      "Epoch 90/100\n",
      "16747/16747 [==============================] - 61s 4ms/step - loss: 0.1687 - acc: 0.9309 - val_loss: 0.2449 - val_acc: 0.9066\n",
      "Epoch 91/100\n",
      "16747/16747 [==============================] - 58s 3ms/step - loss: 0.1620 - acc: 0.9369 - val_loss: 0.1460 - val_acc: 0.9445\n",
      "Epoch 92/100\n",
      "16747/16747 [==============================] - 59s 4ms/step - loss: 0.1617 - acc: 0.9350 - val_loss: 0.2081 - val_acc: 0.9212\n",
      "Epoch 93/100\n",
      "16747/16747 [==============================] - 60s 4ms/step - loss: 0.1639 - acc: 0.9343 - val_loss: 0.1812 - val_acc: 0.9323\n",
      "Epoch 94/100\n",
      "16747/16747 [==============================] - 62s 4ms/step - loss: 0.1653 - acc: 0.9343 - val_loss: 0.1413 - val_acc: 0.9486\n",
      "Epoch 95/100\n",
      "16747/16747 [==============================] - 60s 4ms/step - loss: 0.1638 - acc: 0.9363 - val_loss: 0.2882 - val_acc: 0.8840\n",
      "Epoch 96/100\n",
      "16747/16747 [==============================] - 60s 4ms/step - loss: 0.1670 - acc: 0.9323 - val_loss: 0.1494 - val_acc: 0.9452\n",
      "Epoch 97/100\n",
      "16747/16747 [==============================] - 59s 4ms/step - loss: 0.1614 - acc: 0.9340 - val_loss: 0.2669 - val_acc: 0.8948\n",
      "Epoch 98/100\n",
      "16747/16747 [==============================] - 61s 4ms/step - loss: 0.1652 - acc: 0.9343 - val_loss: 0.1397 - val_acc: 0.9486\n",
      "Epoch 99/100\n",
      "16747/16747 [==============================] - 60s 4ms/step - loss: 0.1568 - acc: 0.9388 - val_loss: 0.1370 - val_acc: 0.9503\n",
      "Epoch 100/100\n",
      "16747/16747 [==============================] - 62s 4ms/step - loss: 0.1640 - acc: 0.9356 - val_loss: 0.2079 - val_acc: 0.9219\n"
     ]
    }
   ],
   "source": [
    "hist = model.fit(X_train, Y_train, epochs = 100, batch_size = 32, validation_split=0.15, verbose=1)"
   ]
  },
  {
   "cell_type": "code",
   "execution_count": 27,
   "metadata": {
    "scrolled": true
   },
   "outputs": [
    {
     "name": "stdout",
     "output_type": "stream",
     "text": [
      "3478/3478 [==============================] - 1s 288us/step\n",
      "Loss = 0.20641511840646196\n",
      "Test Accuracy = 0.9177688325596239\n"
     ]
    }
   ],
   "source": [
    "preds = model.evaluate(X_test, Y_test)\n",
    "print (\"Loss = \" + str(preds[0]))\n",
    "print (\"Test Accuracy = \" + str(preds[1]))"
   ]
  },
  {
   "cell_type": "code",
   "execution_count": 33,
   "metadata": {},
   "outputs": [
    {
     "name": "stderr",
     "output_type": "stream",
     "text": [
      "/home/scanner-ml/anaconda3/lib/python3.6/site-packages/ipykernel_launcher.py:5: FutureWarning: pd.ewm_mean is deprecated for ndarrays and will be removed in a future version\n",
      "  \"\"\"\n",
      "/home/scanner-ml/anaconda3/lib/python3.6/site-packages/ipykernel_launcher.py:6: FutureWarning: pd.ewm_mean is deprecated for ndarrays and will be removed in a future version\n",
      "  \n"
     ]
    },
    {
     "data": {
      "image/png": "[encoded data removed]",
      "text/plain": [
       "<matplotlib.figure.Figure at 0x7fb528531dd8>"
      ]
     },
     "metadata": {},
     "output_type": "display_data"
    }
   ],
   "source": [
    "plt.figure(figsize=(8,6))\n",
    "plt.title('Training accuracy')\n",
    "plt.plot(hist.history['acc'], \"g:\", label='Train')\n",
    "plt.plot(hist.history['val_acc'], \"r:\", label='Validation')\n",
    "plt.plot(pd.ewma(np.array(hist.history['acc']),span=5), \"g\", label='Smoothed train')\n",
    "plt.plot(pd.ewma(np.array(hist.history['val_acc']),span=5), \"r\", label='Smoothed validation')\n",
    "plt.xlabel('epoch')\n",
    "plt.ylabel('accuracy')\n",
    "plt.legend()\n",
    "plt.grid()\n",
    "plt.savefig('acc-2D.pdf')\n",
    "plt.show()"
   ]
  },
  {
   "cell_type": "code",
   "execution_count": 35,
   "metadata": {},
   "outputs": [
    {
     "name": "stderr",
     "output_type": "stream",
     "text": [
      "/home/scanner-ml/anaconda3/lib/python3.6/site-packages/ipykernel_launcher.py:5: FutureWarning: pd.ewm_mean is deprecated for ndarrays and will be removed in a future version\n",
      "  \"\"\"\n",
      "/home/scanner-ml/anaconda3/lib/python3.6/site-packages/ipykernel_launcher.py:6: FutureWarning: pd.ewm_mean is deprecated for ndarrays and will be removed in a future version\n",
      "  \n"
     ]
    },
    {
     "data": {
      "image/png": "[encoded data removed]",
      "text/plain": [
       "<matplotlib.figure.Figure at 0x7fb528475e10>"
      ]
     },
     "metadata": {},
     "output_type": "display_data"
    }
   ],
   "source": [
    "plt.figure(figsize=(8,6))\n",
    "plt.title('Training loss')\n",
    "plt.plot(hist.history['loss'], \"g:\", label='Train')\n",
    "plt.plot(hist.history['val_loss'], \"r:\", label='Validation')\n",
    "plt.plot(pd.ewma(np.array(hist.history['loss']),span=5), \"g\", label='Smoothed train')\n",
    "plt.plot(pd.ewma(np.array(hist.history['val_loss']),span=5), \"r\", label='Smoothed validation')\n",
    "plt.xlabel('epoch')\n",
    "plt.ylabel('loss')\n",
    "plt.legend()\n",
    "plt.grid()\n",
    "plt.savefig('loss-2D.pdf')\n",
    "plt.show()"
   ]
  },
  {
   "cell_type": "markdown",
   "metadata": {},
   "source": [
    "# Sergey-like VGG model with BatchNorm"
   ]
  },
  {
   "cell_type": "code",
   "execution_count": 131,
   "metadata": {},
   "outputs": [],
   "source": [
    "def VGG_b_model(input_shape=(31,31,8), classes=2):\n",
    "    \n",
    "    \n",
    "    X_input = Input(input_shape)\n",
    "    \n",
    "    X = ZeroPadding2D((1,1))(X_input)\n",
    "    X = Conv2D(64, 3, activation='relu', name='conv1_1')(X)\n",
    "    X = ZeroPadding2D((1,1))(X)\n",
    "    X = Conv2D(64, 3, name='conv1_2')(X)\n",
    "    X = BatchNormalization(name='batch1')(X)\n",
    "    X = Activation('relu')(X)\n",
    "    X = MaxPooling2D(name='pool1')(X)\n",
    "    print('conv1\\t',X.get_shape())\n",
    "    \n",
    "    X = ZeroPadding2D((1,1))(X)\n",
    "    X = Conv2D(128, 3, name='conv2')(X)\n",
    "    X = BatchNormalization(name='batch2')(X)\n",
    "    X = Activation('relu')(X)\n",
    "    X = MaxPooling2D(name='pool2')(X)\n",
    "    print('conv2\\t',X.get_shape())\n",
    "    \n",
    "    X = Dropout(rate=0.5, name='drop_middle')(X)\n",
    "    \n",
    "    X = ZeroPadding2D((1,1))(X)\n",
    "    X = Conv2D(256, 3, name='conv3')(X)\n",
    "    X = BatchNormalization(name='batch3')(X)\n",
    "    X = Activation('relu')(X)\n",
    "    X = MaxPooling2D(name='pool3')(X)\n",
    "    print('conv3\\t',X.get_shape())\n",
    "    \n",
    "    X = ZeroPadding2D((1,1))(X)\n",
    "    X = Conv2D(256, 3, name='conv4')(X)\n",
    "    X = BatchNormalization(name='batch4')(X)\n",
    "    X = Activation('relu')(X)\n",
    "    X = MaxPooling2D(name='pool4')(X)\n",
    "    print('conv4\\t',X.get_shape())\n",
    "    \n",
    "    X = Dropout(rate=0.5, name='drop')(X)\n",
    "    \n",
    "    X = Flatten()(X)\n",
    "    X = Dense(1, activation='sigmoid', name='fc')(X)\n",
    "    if classes != 2 : print('oh no, too many classes, change the model output to softmax!')\n",
    "    \n",
    "    model = Model(inputs = X_input, outputs = X, name='VGG_b_model')\n",
    "    return model"
   ]
  },
  {
   "cell_type": "code",
   "execution_count": 132,
   "metadata": {},
   "outputs": [
    {
     "name": "stdout",
     "output_type": "stream",
     "text": [
      "conv1\t (?, 15, 15, 64)\n",
      "conv2\t (?, 7, 7, 128)\n",
      "conv3\t (?, 3, 3, 256)\n",
      "conv4\t (?, 1, 1, 256)\n"
     ]
    }
   ],
   "source": [
    "model_b = VGG_b_model(input_shape=(31,31,8))"
   ]
  },
  {
   "cell_type": "code",
   "execution_count": 133,
   "metadata": {},
   "outputs": [],
   "source": [
    "model_b.compile(optimizer='adam', loss='binary_crossentropy', metrics=['accuracy'])"
   ]
  },
  {
   "cell_type": "code",
   "execution_count": 134,
   "metadata": {
    "scrolled": true
   },
   "outputs": [
    {
     "name": "stdout",
     "output_type": "stream",
     "text": [
      "Train on 16747 samples, validate on 2956 samples\n",
      "Epoch 1/30\n",
      "16747/16747 [==============================] - 13s 773us/step - loss: 0.2887 - acc: 0.9027 - val_loss: 7.0560 - val_acc: 0.3041\n",
      "Epoch 2/30\n",
      "16747/16747 [==============================] - 10s 571us/step - loss: 0.1174 - acc: 0.9612 - val_loss: 5.3167 - val_acc: 0.3045\n",
      "Epoch 3/30\n",
      "16747/16747 [==============================] - 9s 566us/step - loss: 0.0817 - acc: 0.9735 - val_loss: 5.9269 - val_acc: 0.3048\n",
      "Epoch 4/30\n",
      "16747/16747 [==============================] - 9s 567us/step - loss: 0.0685 - acc: 0.9759 - val_loss: 3.5270 - val_acc: 0.3045\n",
      "Epoch 5/30\n",
      "16747/16747 [==============================] - 9s 567us/step - loss: 0.0579 - acc: 0.9796 - val_loss: 7.5938 - val_acc: 0.3045\n",
      "Epoch 6/30\n",
      "16747/16747 [==============================] - 10s 573us/step - loss: 0.0549 - acc: 0.9813 - val_loss: 0.8849 - val_acc: 0.6962\n",
      "Epoch 7/30\n",
      "16747/16747 [==============================] - 10s 576us/step - loss: 0.0485 - acc: 0.9829 - val_loss: 4.8909 - val_acc: 0.3045\n",
      "Epoch 8/30\n",
      "16747/16747 [==============================] - 10s 581us/step - loss: 0.0507 - acc: 0.9834 - val_loss: 0.8659 - val_acc: 0.3978\n",
      "Epoch 9/30\n",
      "16747/16747 [==============================] - 10s 570us/step - loss: 0.0417 - acc: 0.9847 - val_loss: 1.4135 - val_acc: 0.6965\n",
      "Epoch 10/30\n",
      "16747/16747 [==============================] - 10s 573us/step - loss: 0.0376 - acc: 0.9866 - val_loss: 1.2053 - val_acc: 0.2933\n",
      "Epoch 11/30\n",
      "16747/16747 [==============================] - 10s 576us/step - loss: 0.0359 - acc: 0.9886 - val_loss: 0.3578 - val_acc: 0.9347\n",
      "Epoch 12/30\n",
      "16747/16747 [==============================] - 10s 567us/step - loss: 0.0441 - acc: 0.9849 - val_loss: 11.2127 - val_acc: 0.3041\n",
      "Epoch 13/30\n",
      "16747/16747 [==============================] - 9s 567us/step - loss: 0.0286 - acc: 0.9905 - val_loss: 11.2110 - val_acc: 0.3041\n",
      "Epoch 14/30\n",
      "16747/16747 [==============================] - 10s 569us/step - loss: 0.0304 - acc: 0.9894 - val_loss: 1.4353 - val_acc: 0.3078\n",
      "Epoch 15/30\n",
      "16747/16747 [==============================] - 9s 567us/step - loss: 0.0333 - acc: 0.9882 - val_loss: 0.2638 - val_acc: 0.8654\n",
      "Epoch 16/30\n",
      "16747/16747 [==============================] - 10s 571us/step - loss: 0.0309 - acc: 0.9903 - val_loss: 6.9838 - val_acc: 0.3045\n",
      "Epoch 17/30\n",
      "16747/16747 [==============================] - 10s 581us/step - loss: 0.0354 - acc: 0.9883 - val_loss: 0.8275 - val_acc: 0.6979\n",
      "Epoch 18/30\n",
      "16747/16747 [==============================] - 10s 580us/step - loss: 0.0273 - acc: 0.9907 - val_loss: 0.4631 - val_acc: 0.7933\n",
      "Epoch 19/30\n",
      "16747/16747 [==============================] - 10s 577us/step - loss: 0.0246 - acc: 0.9923 - val_loss: 11.2104 - val_acc: 0.3045\n",
      "Epoch 20/30\n",
      "16747/16747 [==============================] - 9s 566us/step - loss: 0.0232 - acc: 0.9934 - val_loss: 0.0453 - val_acc: 0.9885\n",
      "Epoch 21/30\n",
      "16747/16747 [==============================] - 10s 575us/step - loss: 0.0242 - acc: 0.9918 - val_loss: 11.2108 - val_acc: 0.3045\n",
      "Epoch 22/30\n",
      "16747/16747 [==============================] - 10s 581us/step - loss: 0.0183 - acc: 0.9943 - val_loss: 11.2049 - val_acc: 0.3045\n",
      "Epoch 23/30\n",
      "16747/16747 [==============================] - 9s 565us/step - loss: 0.0220 - acc: 0.9928 - val_loss: 0.7317 - val_acc: 0.6965\n",
      "Epoch 24/30\n",
      "16747/16747 [==============================] - 10s 571us/step - loss: 0.0221 - acc: 0.9925 - val_loss: 11.2060 - val_acc: 0.3045\n",
      "Epoch 25/30\n",
      "16747/16747 [==============================] - 9s 565us/step - loss: 0.0176 - acc: 0.9943 - val_loss: 5.8923 - val_acc: 0.3160\n",
      "Epoch 26/30\n",
      "16747/16747 [==============================] - 9s 566us/step - loss: 0.0179 - acc: 0.9933 - val_loss: 0.5461 - val_acc: 0.6972\n",
      "Epoch 27/30\n",
      "16747/16747 [==============================] - 9s 566us/step - loss: 0.0217 - acc: 0.9927 - val_loss: 0.7720 - val_acc: 0.6962\n",
      "Epoch 28/30\n",
      "16747/16747 [==============================] - 9s 566us/step - loss: 0.0213 - acc: 0.9938 - val_loss: 0.8584 - val_acc: 0.6952\n",
      "Epoch 29/30\n",
      "16747/16747 [==============================] - 9s 565us/step - loss: 0.0262 - acc: 0.9920 - val_loss: 1.1285 - val_acc: 0.6969\n",
      "Epoch 30/30\n",
      "16747/16747 [==============================] - 9s 564us/step - loss: 0.0236 - acc: 0.9919 - val_loss: 10.5774 - val_acc: 0.3045\n"
     ]
    },
    {
     "data": {
      "text/plain": [
       "<keras.callbacks.History at 0x7f2ef4c623c8>"
      ]
     },
     "execution_count": 134,
     "metadata": {},
     "output_type": "execute_result"
    }
   ],
   "source": [
    "model_b.fit(X_train, Y_train, epochs = 30, batch_size = 256, validation_split=0.15)"
   ]
  },
  {
   "cell_type": "code",
   "execution_count": 135,
   "metadata": {
    "scrolled": true
   },
   "outputs": [
    {
     "name": "stdout",
     "output_type": "stream",
     "text": [
      "3478/3478 [==============================] - 1s 321us/step\n",
      "Loss = 10.488739654481789\n",
      "Test Accuracy = 0.31196089715296815\n"
     ]
    }
   ],
   "source": [
    "preds = model_b.evaluate(X_test, Y_test)\n",
    "print (\"Loss = \" + str(preds[0]))\n",
    "print (\"Test Accuracy = \" + str(preds[1]))"
   ]
  },
  {
   "cell_type": "code",
   "execution_count": null,
   "metadata": {},
   "outputs": [],
   "source": []
  }
 ],
 "metadata": {
  "kernelspec": {
   "display_name": "Python 3",
   "language": "python",
   "name": "python3"
  },
  "language_info": {
   "codemirror_mode": {
    "name": "ipython",
    "version": 3
   },
   "file_extension": ".py",
   "mimetype": "text/x-python",
   "name": "python",
   "nbconvert_exporter": "python",
   "pygments_lexer": "ipython3",
   "version": "3.6.4"
  }
 },
 "nbformat": 4,
 "nbformat_minor": 2
}
