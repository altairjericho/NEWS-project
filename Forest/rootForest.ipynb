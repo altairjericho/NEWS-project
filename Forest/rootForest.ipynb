{
 "cells": [
  {
   "cell_type": "code",
   "execution_count": 1,
   "metadata": {
    "scrolled": true
   },
   "outputs": [
    {
     "name": "stdout",
     "output_type": "stream",
     "text": [
      "Welcome to JupyROOT 6.12/06\n"
     ]
    }
   ],
   "source": [
    "import ROOT"
   ]
  },
  {
   "cell_type": "code",
   "execution_count": 2,
   "metadata": {},
   "outputs": [],
   "source": [
    "import numpy as np\n",
    "import pandas as pd\n",
    "import matplotlib.pyplot as plt\n",
    "\n",
    "from sklearn.model_selection import train_test_split\n",
    "from sklearn.metrics import precision_score, accuracy_score, precision_recall_curve, roc_curve, roc_auc_score\n",
    "from sklearn.ensemble import RandomForestClassifier, GradientBoostingClassifier\n",
    "\n",
    "%matplotlib inline"
   ]
  },
  {
   "cell_type": "code",
   "execution_count": 3,
   "metadata": {},
   "outputs": [],
   "source": [
    "root_dir = '/home/scanner-ml/ML-drive/Artem/share/Valerio/'"
   ]
  },
  {
   "cell_type": "code",
   "execution_count": 4,
   "metadata": {},
   "outputs": [],
   "source": [
    "def get_pol_feat(id_frame, n_pol, root_dir, class_name, feat_names):\n",
    "    \n",
    "    f = ROOT.TFile.Open(root_dir+class_name+'/dm_tracks.dm.root','read')\n",
    "    t = f.Get('Vdmr')\n",
    "    all_feat = pd.DataFrame(columns=feat_names).values\n",
    "    \n",
    "    for pol_id in id_frame[['ViewID','pol'+str(n_pol)]].values:\n",
    "        pol_feat = []\n",
    "        t.GetEntry(int(pol_id[0]))\n",
    "        for name in feat_names[:-1]:\n",
    "            pol_feat.append(t.GetLeaf('cl.'+name).GetValue(int(pol_id[1])))\n",
    "        pol_feat.append( (t.GetLeaf('cl.lx').GetValue(int(pol_id[1])))/(t.GetLeaf('cl.ly').GetValue(int(pol_id[1]))) )\n",
    "        all_feat = np.vstack((all_feat, pol_feat))\n",
    "    return pd.DataFrame(all_feat, columns=feat_names)"
   ]
  },
  {
   "cell_type": "code",
   "execution_count": 5,
   "metadata": {},
   "outputs": [],
   "source": [
    "def stack_pols(pol_frames, feat_names):\n",
    "    \n",
    "    stacked = pol_frames[0].drop(feat_names, axis=1).values\n",
    "    feat_array = []\n",
    "    for i in range(len(pol_frames)):\n",
    "        stacked = np.hstack((stacked,pol_frames[i]))\n",
    "        for name in feat_names:\n",
    "            feat_array.append(name+str(i))\n",
    "    return pd.DataFrame(stacked, columns=feat_array)"
   ]
  },
  {
   "cell_type": "code",
   "execution_count": 6,
   "metadata": {},
   "outputs": [],
   "source": [
    "def feat_to_input(ft_data, cl_names):\n",
    "    \"\"\"\n",
    "    Stacking data with names from 'cl_names' into one feature array\n",
    "    and labeling 'signal' with 1 and 'noise' with 0.\n",
    "    -------\n",
    "    Output:\n",
    "    X - array of features\n",
    "    y - array of corresponding target labels\n",
    "    \"\"\"\n",
    "    X = pd.DataFrame(columns=ft_data[cl_names[0]].columns).values\n",
    "    y = []\n",
    "    for name in cl_names:\n",
    "        idx = ft_data[name].index\n",
    "        if name[0] == 'C' :\n",
    "            targ = np.ones(len(idx))\n",
    "        else: targ = np.zeros(len(idx))\n",
    "        y = np.append(y,targ)\n",
    "        X = np.vstack((X, ft_data[name].values))\n",
    "    return X, y"
   ]
  },
  {
   "cell_type": "code",
   "execution_count": 7,
   "metadata": {},
   "outputs": [],
   "source": [
    "feat_names = ['x','y','z','lx','ly','phi','npx','vol','eps']"
   ]
  },
  {
   "cell_type": "code",
   "execution_count": 8,
   "metadata": {},
   "outputs": [],
   "source": [
    "class_names = ['C100keV', 'TestSample']"
   ]
  },
  {
   "cell_type": "code",
   "execution_count": 9,
   "metadata": {},
   "outputs": [],
   "source": [
    "id_header = ['ViewID','GrainID','pol0','pol1','pol2','pol3','pol4','pol5','pol6','pol7']"
   ]
  },
  {
   "cell_type": "code",
   "execution_count": 10,
   "metadata": {},
   "outputs": [],
   "source": [
    "n_pols = 8"
   ]
  },
  {
   "cell_type": "code",
   "execution_count": 11,
   "metadata": {},
   "outputs": [],
   "source": [
    "pol_ids = {}\n",
    "for name in class_names:\n",
    "    pol_ids[name] = pd.read_csv(root_dir+name+'/bfcl_cuts_'+name+'.txt', header=None, names=id_header)"
   ]
  },
  {
   "cell_type": "code",
   "execution_count": 12,
   "metadata": {},
   "outputs": [
    {
     "name": "stdout",
     "output_type": "stream",
     "text": [
      "CPU times: user 9min 18s, sys: 3.09 s, total: 9min 21s\n",
      "Wall time: 9min 19s\n"
     ]
    },
    {
     "name": "stderr",
     "output_type": "stream",
     "text": [
      "Warning in <TClass::Init>: no dictionary for class DMRViewHeader is available\n",
      "Warning in <TClass::Init>: no dictionary for class DMRAffine2D is available\n",
      "Warning in <TClass::Init>: no dictionary for class DMRCluster is available\n",
      "Warning in <TClass::Init>: no dictionary for class DMRGrain is available\n",
      "Warning in <TClass::Init>: no dictionary for class DMRMicrotrack is available\n",
      "Warning in <TClass::Init>: no dictionary for class DMRImageCl is available\n",
      "Warning in <TClass::Init>: no dictionary for class DMRImage is available\n",
      "Warning in <TClass::Init>: no dictionary for class DMRFrame is available\n"
     ]
    }
   ],
   "source": [
    "%%time\n",
    "feat_data = {}\n",
    "for name in class_names:\n",
    "    pols = []\n",
    "    for i in range(n_pols):\n",
    "        pols.append(get_pol_feat(pol_ids[name], i, root_dir, name, feat_names))\n",
    "    feat_data[name] = stack_pols(pols, feat_names)"
   ]
  },
  {
   "cell_type": "code",
   "execution_count": 13,
   "metadata": {},
   "outputs": [],
   "source": [
    "copa = feat_data['C100keV']\n",
    "for i in range(n_pols):\n",
    "    copa = copa[ copa['lx'+str(i)]<1000 ]\n",
    "feat_data['C100keV'] = copa"
   ]
  },
  {
   "cell_type": "code",
   "execution_count": 14,
   "metadata": {},
   "outputs": [],
   "source": [
    "topa = feat_data['TestSample']\n",
    "for i in range(n_pols):\n",
    "    topa = topa[ topa['lx'+str(i)]<1000 ]\n",
    "feat_data['TestSample'] = topa"
   ]
  },
  {
   "cell_type": "code",
   "execution_count": 15,
   "metadata": {},
   "outputs": [],
   "source": [
    "X, y = feat_to_input(feat_data, class_names)\n",
    "X_train, X_test, y_train, y_test = train_test_split(X,y, test_size=0.2)"
   ]
  },
  {
   "cell_type": "code",
   "execution_count": 16,
   "metadata": {},
   "outputs": [
    {
     "data": {
      "text/plain": [
       "(18542, 72)"
      ]
     },
     "execution_count": 16,
     "metadata": {},
     "output_type": "execute_result"
    }
   ],
   "source": [
    "X_train.shape"
   ]
  },
  {
   "cell_type": "markdown",
   "metadata": {},
   "source": [
    "### Training"
   ]
  },
  {
   "cell_type": "code",
   "execution_count": 17,
   "metadata": {},
   "outputs": [
    {
     "name": "stdout",
     "output_type": "stream",
     "text": [
      "precision  0.9010526315789473\n"
     ]
    }
   ],
   "source": [
    "randcla = RandomForestClassifier(n_estimators=100, n_jobs=-1)\n",
    "randcla.fit(X_train, y_train)\n",
    "print ('precision ', precision_score(y_test, randcla.predict(X_test)))"
   ]
  },
  {
   "cell_type": "code",
   "execution_count": 18,
   "metadata": {},
   "outputs": [
    {
     "data": {
      "text/plain": [
       "Index(['y4', 'y7', 'y1', 'y0', 'y5', 'x4', 'x0', 'y6', 'x3', 'x2', 'y2', 'x1',\n",
       "       'y3', 'x6', 'x5', 'x7', 'ly5', 'eps4', 'phi7', 'phi3', 'phi6', 'phi5',\n",
       "       'phi1', 'eps2', 'eps3', 'phi0', 'eps5', 'eps1', 'ly0', 'ly7', 'phi2',\n",
       "       'ly4', 'phi4', 'ly2', 'ly3', 'lx3', 'ly1', 'eps6', 'ly6', 'lx2', 'lx5',\n",
       "       'lx4', 'lx1', 'eps0', 'eps7', 'lx6', 'lx7', 'lx0', 'npx2', 'vol6',\n",
       "       'vol0', 'vol2', 'vol7', 'npx5', 'vol1', 'npx7', 'npx6', 'npx3', 'npx0',\n",
       "       'npx4', 'npx1', 'vol3', 'vol5', 'vol4', 'z0', 'z1', 'z2', 'z5', 'z6',\n",
       "       'z4', 'z3', 'z7'],\n",
       "      dtype='object')"
      ]
     },
     "execution_count": 18,
     "metadata": {},
     "output_type": "execute_result"
    }
   ],
   "source": [
    "feat_data['C100keV'].columns[np.argsort(randcla.feature_importances_)]"
   ]
  },
  {
   "cell_type": "markdown",
   "metadata": {},
   "source": [
    "* Dropping unphysical 'z'"
   ]
  },
  {
   "cell_type": "code",
   "execution_count": 19,
   "metadata": {},
   "outputs": [],
   "source": [
    "feat_noz_data = {}\n",
    "for name in class_names:\n",
    "    copa = feat_data[name]\n",
    "    for i in range(n_pols):\n",
    "        copa = copa.drop(['z'+str(i)],axis=1)\n",
    "    feat_noz_data[name] = copa"
   ]
  },
  {
   "cell_type": "code",
   "execution_count": 20,
   "metadata": {},
   "outputs": [],
   "source": [
    "X, y = feat_to_input(feat_noz_data, class_names)\n",
    "X_train, X_test, y_train, y_test = train_test_split(X,y, test_size=0.25)"
   ]
  },
  {
   "cell_type": "code",
   "execution_count": 21,
   "metadata": {},
   "outputs": [
    {
     "name": "stdout",
     "output_type": "stream",
     "text": [
      "precision  0.8351001177856302\n"
     ]
    }
   ],
   "source": [
    "randcla = RandomForestClassifier(n_estimators=100, n_jobs=-1)\n",
    "randcla.fit(X_train, y_train)\n",
    "print ('precision ', precision_score(y_test, randcla.predict(X_test)))"
   ]
  },
  {
   "cell_type": "code",
   "execution_count": 22,
   "metadata": {},
   "outputs": [
    {
     "data": {
      "text/plain": [
       "Index(['y1', 'x3', 'y0', 'x5', 'y5', 'y3', 'y2', 'x1', 'x0', 'y4', 'x2', 'x6',\n",
       "       'y6', 'y7', 'x7', 'x4', 'eps2', 'phi1', 'phi3', 'eps1', 'phi2', 'phi0',\n",
       "       'lx2', 'eps5', 'eps4', 'ly0', 'eps3', 'phi7', 'phi4', 'ly7', 'lx1',\n",
       "       'phi5', 'phi6', 'ly6', 'lx3', 'eps0', 'ly2', 'eps6', 'lx4', 'lx5',\n",
       "       'eps7', 'ly5', 'ly4', 'ly1', 'ly3', 'lx6', 'lx7', 'lx0', 'vol7', 'vol0',\n",
       "       'npx6', 'npx7', 'vol5', 'vol3', 'npx0', 'vol6', 'vol2', 'npx1', 'npx5',\n",
       "       'npx4', 'vol1', 'npx3', 'npx2', 'vol4'],\n",
       "      dtype='object')"
      ]
     },
     "execution_count": 22,
     "metadata": {},
     "output_type": "execute_result"
    }
   ],
   "source": [
    "feat_noz_data['C100keV'].columns[np.argsort(randcla.feature_importances_)]"
   ]
  },
  {
   "cell_type": "markdown",
   "metadata": {},
   "source": [
    "### Performance without directionallity"
   ]
  },
  {
   "cell_type": "code",
   "execution_count": 23,
   "metadata": {},
   "outputs": [],
   "source": [
    "feat_noz_nophi_data = {}\n",
    "for name in class_names:\n",
    "    copa = feat_noz_data[name]\n",
    "    for i in range(n_pols):\n",
    "        copa = copa.drop(['phi'+str(i)],axis=1)\n",
    "    feat_noz_nophi_data[name] = copa"
   ]
  },
  {
   "cell_type": "code",
   "execution_count": 24,
   "metadata": {},
   "outputs": [],
   "source": [
    "X, y = feat_to_input(feat_noz_nophi_data, class_names)\n",
    "X_train, X_test, y_train, y_test = train_test_split(X,y, test_size=0.25)"
   ]
  },
  {
   "cell_type": "code",
   "execution_count": 25,
   "metadata": {},
   "outputs": [
    {
     "name": "stdout",
     "output_type": "stream",
     "text": [
      "precision  0.8336086853906065\n",
      "CPU times: user 2min 20s, sys: 303 ms, total: 2min 21s\n",
      "Wall time: 13.1 s\n"
     ]
    }
   ],
   "source": [
    "%%time\n",
    "randcla = RandomForestClassifier(n_estimators=1000, n_jobs=-1)\n",
    "randcla.fit(X_train, y_train)\n",
    "print ('precision ', precision_score(y_test, randcla.predict(X_test)))"
   ]
  },
  {
   "cell_type": "code",
   "execution_count": 26,
   "metadata": {},
   "outputs": [
    {
     "data": {
      "text/plain": [
       "Index(['y7', 'y3', 'y2', 'y4', 'y1', 'y0', 'y5', 'x0', 'y6', 'x7', 'x6', 'x1',\n",
       "       'x3', 'x4', 'x2', 'x5', 'eps1', 'eps2', 'lx2', 'eps3', 'eps4', 'ly0',\n",
       "       'lx3', 'eps5', 'ly7', 'ly6', 'ly2', 'eps0', 'lx1', 'ly5', 'ly1', 'eps6',\n",
       "       'lx4', 'eps7', 'lx5', 'ly3', 'ly4', 'lx7', 'lx6', 'lx0', 'npx6', 'vol6',\n",
       "       'vol7', 'vol2', 'npx5', 'npx2', 'vol1', 'vol0', 'vol5', 'npx7', 'npx1',\n",
       "       'npx4', 'npx3', 'npx0', 'vol4', 'vol3'],\n",
       "      dtype='object')"
      ]
     },
     "execution_count": 26,
     "metadata": {},
     "output_type": "execute_result"
    }
   ],
   "source": [
    "feat_noz_nophi_data['C100keV'].columns[np.argsort(randcla.feature_importances_)]"
   ]
  },
  {
   "cell_type": "code",
   "execution_count": 27,
   "metadata": {},
   "outputs": [
    {
     "data": {
      "text/plain": [
       "0.8513613473851313"
      ]
     },
     "execution_count": 27,
     "metadata": {},
     "output_type": "execute_result"
    }
   ],
   "source": [
    "roc_auc_score(y_test, randcla.predict_proba(X_test)[:,1])"
   ]
  },
  {
   "cell_type": "code",
   "execution_count": 28,
   "metadata": {
    "scrolled": true
   },
   "outputs": [
    {
     "name": "stdout",
     "output_type": "stream",
     "text": [
      "0.8523446056699686\n",
      "CPU times: user 1min 21s, sys: 47.4 ms, total: 1min 21s\n",
      "Wall time: 1min 21s\n"
     ]
    }
   ],
   "source": [
    "%%time\n",
    "boocla = GradientBoostingClassifier(n_estimators=1000)\n",
    "boocla.fit(X_train, y_train)\n",
    "print(roc_auc_score(y_test, boocla.predict_proba(X_test)[:,1]))"
   ]
  },
  {
   "cell_type": "markdown",
   "metadata": {},
   "source": [
    "* 10000"
   ]
  },
  {
   "cell_type": "code",
   "execution_count": 29,
   "metadata": {},
   "outputs": [
    {
     "name": "stdout",
     "output_type": "stream",
     "text": [
      "0.8518075480740132\n",
      "CPU times: user 23min 30s, sys: 2.56 s, total: 23min 33s\n",
      "Wall time: 2min 9s\n"
     ]
    }
   ],
   "source": [
    "%%time\n",
    "randcla = RandomForestClassifier(n_estimators=10000, n_jobs=-1)\n",
    "randcla.fit(X_train, y_train)\n",
    "print(roc_auc_score(y_test, randcla.predict_proba(X_test)[:,1]))"
   ]
  },
  {
   "cell_type": "code",
   "execution_count": 30,
   "metadata": {},
   "outputs": [
    {
     "name": "stdout",
     "output_type": "stream",
     "text": [
      "0.8375258786726573\n",
      "CPU times: user 13min 21s, sys: 691 ms, total: 13min 22s\n",
      "Wall time: 13min 20s\n"
     ]
    }
   ],
   "source": [
    "%%time\n",
    "boocla = GradientBoostingClassifier(n_estimators=10000)\n",
    "boocla.fit(X_train, y_train)\n",
    "print(roc_auc_score(y_test, boocla.predict_proba(X_test)[:,1]))"
   ]
  },
  {
   "cell_type": "markdown",
   "metadata": {},
   "source": [
    "### No volume"
   ]
  },
  {
   "cell_type": "code",
   "execution_count": 31,
   "metadata": {},
   "outputs": [],
   "source": [
    "feat_noz_novol_data = {}\n",
    "for name in class_names:\n",
    "    copa = feat_noz_data[name]\n",
    "    for i in range(n_pols):\n",
    "        copa = copa.drop(['vol'+str(i)],axis=1)\n",
    "    feat_noz_novol_data[name] = copa"
   ]
  },
  {
   "cell_type": "code",
   "execution_count": 32,
   "metadata": {},
   "outputs": [],
   "source": [
    "X, y = feat_to_input(feat_noz_novol_data, class_names)\n",
    "X_train, X_test, y_train, y_test = train_test_split(X,y, test_size=0.25)"
   ]
  },
  {
   "cell_type": "code",
   "execution_count": 33,
   "metadata": {},
   "outputs": [
    {
     "name": "stdout",
     "output_type": "stream",
     "text": [
      "precision  0.8354755784061697\n",
      "CPU times: user 2min 22s, sys: 300 ms, total: 2min 22s\n",
      "Wall time: 13.3 s\n"
     ]
    }
   ],
   "source": [
    "%%time\n",
    "randcla = RandomForestClassifier(n_estimators=1000, n_jobs=-1)\n",
    "randcla.fit(X_train, y_train)\n",
    "print ('precision ', precision_score(y_test, randcla.predict(X_test)))"
   ]
  },
  {
   "cell_type": "code",
   "execution_count": 34,
   "metadata": {},
   "outputs": [
    {
     "data": {
      "text/plain": [
       "Index(['y5', 'y6', 'y0', 'y1', 'y7', 'y2', 'y3', 'y4', 'x6', 'x7', 'x4', 'x1',\n",
       "       'x2', 'x5', 'x3', 'x0', 'eps1', 'eps2', 'phi2', 'phi4', 'phi0', 'phi3',\n",
       "       'phi7', 'phi1', 'phi5', 'eps3', 'phi6', 'lx2', 'lx1', 'eps4', 'eps5',\n",
       "       'ly7', 'eps6', 'ly0', 'lx3', 'ly6', 'eps7', 'eps0', 'ly5', 'lx5', 'lx4',\n",
       "       'lx7', 'lx6', 'ly2', 'ly1', 'lx0', 'ly3', 'ly4', 'npx7', 'npx6', 'npx5',\n",
       "       'npx2', 'npx1', 'npx0', 'npx3', 'npx4'],\n",
       "      dtype='object')"
      ]
     },
     "execution_count": 34,
     "metadata": {},
     "output_type": "execute_result"
    }
   ],
   "source": [
    "feat_noz_novol_data['C100keV'].columns[np.argsort(randcla.feature_importances_)]"
   ]
  },
  {
   "cell_type": "code",
   "execution_count": 35,
   "metadata": {},
   "outputs": [
    {
     "data": {
      "text/plain": [
       "0.8466665997731754"
      ]
     },
     "execution_count": 35,
     "metadata": {},
     "output_type": "execute_result"
    }
   ],
   "source": [
    "roc_auc_score(y_test, randcla.predict_proba(X_test)[:,1])"
   ]
  },
  {
   "cell_type": "code",
   "execution_count": null,
   "metadata": {},
   "outputs": [],
   "source": []
  },
  {
   "cell_type": "markdown",
   "metadata": {},
   "source": [
    "# Multi-run plot"
   ]
  },
  {
   "cell_type": "code",
   "execution_count": 36,
   "metadata": {},
   "outputs": [
    {
     "name": "stdout",
     "output_type": "stream",
     "text": [
      "boo  [0.8418463827341731, 0.8450549906069581, 0.8472179845594294, 0.8465959175938923, 0.841855406371026, 0.8399624165525084] \n",
      "rand  [0.8412548410401772, 0.8432947469462039, 0.8454799475049926, 0.846445335653912, 0.847122742892335, 0.8471651116872453]\n",
      "boo  [0.8403995097065522, 0.8434983976905557, 0.8487002478503451, 0.8482435289651641, 0.838419038128785, 0.8353527729222946] \n",
      "rand  [0.841221700257782, 0.8458124078561717, 0.8480078587098541, 0.8488379118332539, 0.8493696010337765, 0.8493704976428837]\n",
      "boo  [0.8417976759416448, 0.8452070747790592, 0.8492892559040418, 0.8476597776208672, 0.8368017823270741, 0.8337521790829183] \n",
      "rand  [0.8449342199342199, 0.8465319126797726, 0.8505498272035237, 0.850875263813007, 0.8508916782263085, 0.8511489532890312]\n",
      "boo  [0.8554820532654357, 0.8594765227116847, 0.8606929222369424, 0.860653624262739, 0.8520569803662797, 0.8487538301388886] \n",
      "rand  [0.853737746241389, 0.8562328848840766, 0.8593630109372765, 0.8602445295240874, 0.8604695740382315, 0.8606052085930818]\n",
      "boo  [0.8384467708397669, 0.8420837457802438, 0.8475162210570771, 0.8469692594206213, 0.8413399502893666, 0.8390193973851561] \n",
      "rand  [0.8370970331087063, 0.8436653023228899, 0.8456490119914244, 0.8456668174567007, 0.8465303825226005, 0.8464662550265664]\n",
      "boo  [0.8494382196406267, 0.8528465022854959, 0.855898605509361, 0.854786206799157, 0.8502266213632154, 0.8480293894870174] \n",
      "rand  [0.8515974300765344, 0.8540454676677892, 0.85779893067415, 0.8583101153597658, 0.8580643339064613, 0.8580352067673819]\n",
      "boo  [0.8422078732297711, 0.8456246064098507, 0.8502855110985779, 0.8513937882207334, 0.8379650728346352, 0.8344476253382672] \n",
      "rand  [0.8413846735751092, 0.8457203549508221, 0.8485216816940819, 0.8502400497752531, 0.8501212208701325, 0.8500692550805478]\n",
      "boo  [0.8436253851809261, 0.8454562810496649, 0.8483321696975994, 0.8476471119684654, 0.8384531924187497, 0.836958056342441] \n",
      "rand  [0.8437262996134998, 0.8470295377442081, 0.8502302727825555, 0.8499083964952231, 0.8512385191701504, 0.8510824160780106]\n",
      "boo  [0.8401647285741052, 0.8425882039363335, 0.8458640673512722, 0.8458626733075194, 0.8353132472074515, 0.8324160060758002] \n",
      "rand  [0.8385921775186468, 0.8417443892527032, 0.8457159502025268, 0.8461101857758467, 0.846372056894829, 0.8465157828057528]\n",
      "boo  [0.837907683655686, 0.8417027681925285, 0.8473527670127095, 0.8485007028350489, 0.8401172459203544, 0.8371588497101579] \n",
      "rand  [0.8398666046044405, 0.8445263279424967, 0.8489860438645478, 0.8489372358750381, 0.8492269235825598, 0.8493217304686577]\n",
      "boo  [0.8500531206937445, 0.8529679682496745, 0.8569055361731763, 0.8563055831613282, 0.8485073141062744, 0.8444923193413371] \n",
      "rand  [0.8486468364344673, 0.8530107420291657, 0.8564920096339713, 0.8565030706113191, 0.8570255267755459, 0.8569277981402439]\n",
      "boo  [0.8419734927272615, 0.8444658356718657, 0.8476042383077559, 0.846213529630615, 0.8355983770556634, 0.832221937749576] \n",
      "rand  [0.8433840029317416, 0.8488483877931116, 0.8501379971229217, 0.8498899899653669, 0.8505746765797016, 0.8504028774129276]\n",
      "boo  [0.8448414919317947, 0.846735832524878, 0.8506857926447464, 0.8493922641611558, 0.8398406772945911, 0.8373602237793286] \n",
      "rand  [0.8425054201536023, 0.848937207544557, 0.8520251358850573, 0.8513901172555545, 0.8519412680920208, 0.8522551026099437]\n",
      "boo  [0.8409644914751437, 0.8439896361211234, 0.8458219672299346, 0.8460320496234967, 0.8364611028335892, 0.8321346880464651] \n",
      "rand  [0.8386140640055673, 0.8424816292914243, 0.8454139306234609, 0.8468263757538987, 0.8460503812988472, 0.8465105551416795]\n",
      "boo  [0.8433825684408254, 0.8475102458179861, 0.8507974662838895, 0.8512417309203401, 0.8442126085006575, 0.8410798108187167] \n",
      "rand  [0.8422309432853117, 0.8478041699500863, 0.8512322290626213, 0.8525111087274352, 0.8526462462594354, 0.8524597283116226]\n",
      "boo  [0.8452976535028136, 0.8478350324666375, 0.8512144541931549, 0.8514823609093022, 0.8430599644141126, 0.8410086849591404] \n",
      "rand  [0.8437755777081362, 0.8495622221434675, 0.8513083270188915, 0.8523831181360331, 0.8519925087375559, 0.8520327299033399]\n",
      "boo  [0.8387692254206647, 0.8406747323042693, 0.8439717702683911, 0.8426827979418717, 0.835179251842581, 0.8325511055486023] \n",
      "rand  [0.8372488527325823, 0.8403868724794883, 0.8448503685162008, 0.8443932693644833, 0.8449598108747045, 0.845220692532332]\n",
      "boo  [0.8326870078117456, 0.8351645049283123, 0.8384750550348611, 0.8396650128471983, 0.8355828193858046, 0.8312725919377195] \n",
      "rand  [0.8340834752929716, 0.8365658549225221, 0.8403511090731395, 0.8398797746507078, 0.8404160258654908, 0.8401032699633579]\n",
      "boo  [0.8490227444413809, 0.8511645976655928, 0.853353384486751, 0.8523969198110775, 0.8427189319202258, 0.8382812552537608] \n",
      "rand  [0.8458957760323149, 0.8538854153357139, 0.8562923383074541, 0.8571310486898942, 0.8570418748556966, 0.8572536364431116]\n",
      "boo  [0.8415220704177395, 0.8446310688277042, 0.8488353514551084, 0.8498471670815304, 0.8425444917892251, 0.8404822941906962] \n",
      "rand  [0.842534230386534, 0.8466696445395013, 0.8492991806304386, 0.8504085140166628, 0.8501012228837268, 0.8502747025708327]\n",
      "boo  [0.8444667878082366, 0.8478771596087507, 0.8510323533169603, 0.8488806235005182, 0.8363245836941553, 0.8340472168197498] \n",
      "rand  [0.8417961130591558, 0.8454362516148265, 0.8486230320409989, 0.8491890376343322, 0.8496970514331144, 0.8496669553243139]\n",
      "boo  [0.8354934491477507, 0.8387537769937139, 0.8435685349655357, 0.8452516467512521, 0.8329845030713223, 0.8299084711870821] \n",
      "rand  [0.8354042446386567, 0.8365153532872553, 0.8414878120876541, 0.8413573297156565, 0.8421023397345418, 0.8421810862615914]\n",
      "boo  [0.8500427283219294, 0.8523047914799642, 0.8529972371514786, 0.8511340271381012, 0.8389698383257931, 0.8367890435762315] \n",
      "rand  [0.849092262387677, 0.8521041167580173, 0.8544861409626894, 0.8547429130758095, 0.8550555052135209, 0.8553175472916956]\n",
      "boo  [0.8522655908852801, 0.8543806092908675, 0.8588152059290415, 0.8569514843025516, 0.8465631344952422, 0.8433467824281121] \n",
      "rand  [0.8515624121968917, 0.853818874985369, 0.8557660652447852, 0.8558974358271494, 0.8560142782073953, 0.8561483899599707]\n",
      "boo  [0.8435538495153345, 0.8461371872627435, 0.8478967481505024, 0.8478788159683599, 0.8407757406818864, 0.8388243054452036] \n",
      "rand  [0.8437444824054946, 0.8453903118765118, 0.8499088079568126, 0.8502210348358846, 0.8501637208229602, 0.8503223516649894]\n",
      "boo  [0.8569220830698382, 0.8597699634953072, 0.8603894237341845, 0.85888368423702, 0.8490819362698646, 0.8452867795577022] \n",
      "rand  [0.856943744923218, 0.8583329230188619, 0.8627573049958699, 0.8634893381045341, 0.8637389651768171, 0.8637487989705737]\n",
      "boo  [0.8408031762144583, 0.8430278028860639, 0.8469954927722977, 0.8460876923501439, 0.8398253466685508, 0.836597038903861] \n",
      "rand  [0.8387589529273289, 0.8419377176999899, 0.8453808511249117, 0.8454828636992155, 0.84580813330089, 0.8454653041577371]\n",
      "boo  [0.8426700829546659, 0.8454030855160468, 0.8500080591213804, 0.8490692201971881, 0.8386868726516847, 0.8357481467500584] \n",
      "rand  [0.8420012733133401, 0.8434318021559473, 0.8468224095353186, 0.8484810713648421, 0.848264978343373, 0.8483593494020243]\n",
      "boo  [0.8457514603840746, 0.8501612340342217, 0.853546512721187, 0.852192594821264, 0.8403729136777787, 0.8355686621100988] \n",
      "rand  [0.8464040842083839, 0.8482211991022551, 0.8532197168718745, 0.8531619900823302, 0.8537606894804782, 0.8539053175567977]\n",
      "boo  [0.8343040615079003, 0.8375931990195771, 0.8396566696441741, 0.8384325218935179, 0.830207088677241, 0.8281413393480088] \n",
      "rand  [0.8329918728963412, 0.8366073485324313, 0.8402753724784406, 0.8411160763854938, 0.8412353976463882, 0.8413061755933885]\n",
      "boo  [0.8494521844327307, 0.8529369947852494, 0.8572974245796902, 0.8541312561853411, 0.844084153320203, 0.8410501064653801] \n",
      "rand  [0.8498794146540944, 0.8556866172053529, 0.8588528554313823, 0.8589721279416944, 0.8592601836238005, 0.85939279398509]\n",
      "boo  [0.8445622420317435, 0.8477200605657669, 0.8501280185458391, 0.8505168864935511, 0.8438734021257929, 0.8408507998004069] \n",
      "rand  [0.8441303822638494, 0.8493242101917241, 0.8512951771221386, 0.8517063037380417, 0.8522624237345913, 0.8521257513513993]\n",
      "boo  [0.8581025162773197, 0.8607843541276381, 0.8615350288033832, 0.860200072654131, 0.8520142045318225, 0.8484936969577564] \n",
      "rand  [0.8545963334785098, 0.8587979382485047, 0.8635861531500533, 0.8629356107703117, 0.8631111069085498, 0.8632634575971128]\n"
     ]
    },
    {
     "name": "stdout",
     "output_type": "stream",
     "text": [
      "boo  [0.846352063436864, 0.8486727426563511, 0.8531054877827484, 0.8526798651657883, 0.8426285087797699, 0.8385754114442243] \n",
      "rand  [0.8475214084249173, 0.8498129725115228, 0.8539173260228621, 0.8537513697654376, 0.8541094181902684, 0.8540033849388906]\n",
      "boo  [0.8400639928262819, 0.8449661693975707, 0.8468631287193282, 0.8438557376158256, 0.8338000326078097, 0.8294444444444445] \n",
      "rand  [0.8416750224178691, 0.8432759300019022, 0.84706679166327, 0.8477164343360235, 0.8479563055351758, 0.8480614657210401]\n",
      "boo  [0.8467392820097992, 0.8495938200196562, 0.850757469272604, 0.8493193665792378, 0.8405906082477148, 0.8363113013148764] \n",
      "rand  [0.8405163002565084, 0.8452694421650486, 0.8487355279978621, 0.8494263145291985, 0.8497042403056545, 0.8497699369034873]\n",
      "boo  [0.8309341026955601, 0.8359009457302519, 0.8381510621733589, 0.836647075183712, 0.8319418800898484, 0.8289414455923072] \n",
      "rand  [0.8319394367392802, 0.8335195864566334, 0.8376147816286845, 0.8391036896548257, 0.8388428794341926, 0.8388681506600677]\n",
      "boo  [0.8416205262274297, 0.8448286121530217, 0.8463374266060518, 0.845395151029172, 0.8376537186267103, 0.8347896150600627] \n",
      "rand  [0.8411963986710668, 0.8459650724330343, 0.8491917277454527, 0.8504424346247135, 0.8502759314238757, 0.8502686141190297]\n",
      "boo  [0.8453563564803347, 0.8478959898714666, 0.8509348250901383, 0.8499735777392453, 0.8413058376682354, 0.8391661850108717] \n",
      "rand  [0.8426815842347178, 0.8426693364159304, 0.8479153249112377, 0.8490902210112019, 0.8487908375306195, 0.8489534307654198]\n",
      "boo  [0.8402005709499571, 0.843154152879444, 0.8449692912430558, 0.8464054111153401, 0.8391029372857307, 0.834381481521582] \n",
      "rand  [0.8355928693164231, 0.8410080240039954, 0.8426854636518422, 0.8433363399403732, 0.8430456040934275, 0.8430671889223604]\n",
      "boo  [0.8329601740485972, 0.8358815186945685, 0.8389948615366498, 0.8367946961614593, 0.8309499138659255, 0.8289695138678232] \n",
      "rand  [0.8353295936475388, 0.8377742916089812, 0.8396087394899825, 0.8406671016393242, 0.8410674932263427, 0.8412288638032331]\n",
      "boo  [0.8484382982633978, 0.8511275861115402, 0.8526410481232456, 0.8524851838123462, 0.8467961364645114, 0.8437584583623019] \n",
      "rand  [0.8478697287206808, 0.8526388135094694, 0.85699651986837, 0.8567633518871453, 0.8568766188729335, 0.8570106258678332]\n",
      "boo  [0.8525157002567292, 0.8556005845749639, 0.8596267301148005, 0.8573263348954214, 0.8475711284548176, 0.8436657218905839] \n",
      "rand  [0.8507819891246933, 0.8547532469636486, 0.8586174528363812, 0.8577693470765806, 0.8588187775712933, 0.8584968535241395]\n",
      "boo  [0.8478451799306006, 0.8505568872277093, 0.8541421702286285, 0.853609701087227, 0.8432976915921035, 0.8399719371755547] \n",
      "rand  [0.8477176970564454, 0.8499639950754555, 0.854605989427494, 0.8548066850802452, 0.855285091527726, 0.8550788651645994]\n",
      "boo  [0.8406452253375147, 0.8435887507511622, 0.8486136010617353, 0.846988333943174, 0.8399992537109779, 0.836331855792456] \n",
      "rand  [0.8429115213101717, 0.845322689246922, 0.8497066499364261, 0.8488230771501339, 0.849787544324834, 0.8501069448876696]\n",
      "boo  [0.8429206459810633, 0.8457570602942985, 0.8496360208222322, 0.8490430517413343, 0.8391550873741307, 0.8362131956114822] \n",
      "rand  [0.843510131027039, 0.843823079340356, 0.8465931603612467, 0.8470486125343281, 0.8479557595879275, 0.8477610635187387]\n",
      "boo  [0.8458405348357612, 0.8479332559041171, 0.8526539853330445, 0.8524874484118788, 0.8445325580377687, 0.8392765413166255] \n",
      "rand  [0.8466141998716201, 0.8514667652230773, 0.8518526570512848, 0.8528911088237254, 0.8536132798073913, 0.8534143413513544]\n",
      "boo  [0.8454640364460223, 0.8482681458415964, 0.8511229263939077, 0.8497848977682986, 0.8401733052224697, 0.8363752941252748] \n",
      "rand  [0.846514317737893, 0.8509112915070067, 0.8525775902968469, 0.8539677700434377, 0.8541089304425262, 0.8542101318070251]\n",
      "boo  [0.8438707759320943, 0.8470122829858588, 0.8493432281839288, 0.8482951129219914, 0.8383427953119101, 0.8367298416098297] \n",
      "rand  [0.8434953016907488, 0.8473671244918323, 0.8505839618009138, 0.8510660615874688, 0.8513731985475662, 0.8513263248500942]\n",
      "boo  [0.8419396126185412, 0.8443603663861483, 0.848986319300776, 0.8474697608056002, 0.8392900265636318, 0.8358090649396849] \n",
      "rand  [0.8438264935369576, 0.8477505972875388, 0.8507844058230314, 0.8510843981053875, 0.8511054210776874, 0.8512684182675245]\n",
      "CPU times: user 2d 1h 20min 21s, sys: 3min 45s, total: 2d 1h 24min 6s\n",
      "Wall time: 19h 44min 56s\n"
     ]
    }
   ],
   "source": [
    "%%time\n",
    "n_est = [50, 100, 500, 1000, 5000, 10000]\n",
    "boo_aucs = pd.DataFrame(columns=n_est).values\n",
    "rand_aucs = pd.DataFrame(columns=n_est).values\n",
    "for run in range(50):\n",
    "    X, y = feat_to_input(feat_noz_nophi_data, class_names)\n",
    "    X_train, X_test, y_train, y_test = train_test_split(X,y, test_size=0.25, random_state=(145*run))\n",
    "    boo_rocs = []\n",
    "    rand_rocs = []\n",
    "    for n in n_est:\n",
    "        boocla.set_params(n_estimators=n)\n",
    "        boocla.fit(X_train, y_train)\n",
    "        boo_rocs.append(roc_auc_score(y_test, boocla.predict_proba(X_test)[:,1]))\n",
    "        \n",
    "        randcla.set_params(n_estimators=n)\n",
    "        randcla.fit(X_train, y_train)\n",
    "        rand_rocs.append(roc_auc_score(y_test, randcla.predict_proba(X_test)[:,1]))\n",
    "        \n",
    "    print('boo ',boo_rocs ,'\\nrand ', rand_rocs)\n",
    "    boo_aucs = np.vstack((boo_aucs, boo_rocs))\n",
    "    rand_aucs = np.vstack((rand_aucs, rand_rocs))\n"
   ]
  },
  {
   "cell_type": "code",
   "execution_count": 37,
   "metadata": {},
   "outputs": [],
   "source": [
    "boo_means = boo_aucs.mean(axis=0)\n",
    "rand_means = rand_aucs.mean(axis=0)\n",
    "boo_vars = boo_aucs.var(axis=0)\n",
    "rand_vars = rand_aucs.var(axis=0)"
   ]
  },
  {
   "cell_type": "code",
   "execution_count": 41,
   "metadata": {
    "scrolled": false
   },
   "outputs": [
    {
     "data": {
      "image/png": "[encoded data removed]",
      "text/plain": [
       "<matplotlib.figure.Figure at 0x7f5361406860>"
      ]
     },
     "metadata": {},
     "output_type": "display_data"
    }
   ],
   "source": [
    "#plot\n",
    "plt.figure(figsize=(12,8))\n",
    "plt.errorbar(n_est, boo_means, yerr=np.sqrt(np.array(boo_vars, dtype=float)), label='Boosted Decision Trees')\n",
    "plt.errorbar(n_est, rand_means, yerr=np.sqrt(np.array(rand_vars, dtype=float)), label='Random Forest')\n",
    "plt.title('Trees classifiers ROC-AUC scores')\n",
    "plt.ylabel('roc-auc')\n",
    "plt.xlabel('n_trees')\n",
    "plt.xscale('log')\n",
    "plt.grid()\n",
    "plt.legend()\n",
    "plt.savefig('trees.pdf')"
   ]
  },
  {
   "cell_type": "code",
   "execution_count": null,
   "metadata": {
    "collapsed": true
   },
   "outputs": [],
   "source": []
  },
  {
   "cell_type": "code",
   "execution_count": null,
   "metadata": {
    "collapsed": true
   },
   "outputs": [],
   "source": []
  },
  {
   "cell_type": "code",
   "execution_count": null,
   "metadata": {
    "collapsed": true
   },
   "outputs": [],
   "source": []
  },
  {
   "cell_type": "code",
   "execution_count": null,
   "metadata": {
    "collapsed": true
   },
   "outputs": [],
   "source": []
  },
  {
   "cell_type": "markdown",
   "metadata": {},
   "source": [
    "# 51. TESTING AREA"
   ]
  },
  {
   "cell_type": "code",
   "execution_count": null,
   "metadata": {
    "collapsed": true
   },
   "outputs": [],
   "source": [
    "feat_data['TestSample']['phi0'].hist()"
   ]
  },
  {
   "cell_type": "code",
   "execution_count": null,
   "metadata": {
    "collapsed": true
   },
   "outputs": [],
   "source": []
  },
  {
   "cell_type": "code",
   "execution_count": 3,
   "metadata": {
    "scrolled": false
   },
   "outputs": [
    {
     "name": "stderr",
     "output_type": "stream",
     "text": [
      "Warning in <TClass::Init>: no dictionary for class DMRViewHeader is available\n",
      "Warning in <TClass::Init>: no dictionary for class DMRAffine2D is available\n",
      "Warning in <TClass::Init>: no dictionary for class DMRCluster is available\n",
      "Warning in <TClass::Init>: no dictionary for class DMRGrain is available\n",
      "Warning in <TClass::Init>: no dictionary for class DMRMicrotrack is available\n",
      "Warning in <TClass::Init>: no dictionary for class DMRImageCl is available\n",
      "Warning in <TClass::Init>: no dictionary for class DMRImage is available\n",
      "Warning in <TClass::Init>: no dictionary for class DMRFrame is available\n"
     ]
    }
   ],
   "source": [
    "f = ROOT.TFile.Open('/home/artem145/NEWS/root_files/Valerio/TestSample/dm_tracks.dm.root','read')"
   ]
  },
  {
   "cell_type": "code",
   "execution_count": 4,
   "metadata": {
    "collapsed": true,
    "scrolled": true
   },
   "outputs": [],
   "source": [
    "t = f.Get('Vdmr')"
   ]
  },
  {
   "cell_type": "code",
   "execution_count": 79,
   "metadata": {},
   "outputs": [
    {
     "data": {
      "text/plain": [
       "480528"
      ]
     },
     "execution_count": 79,
     "metadata": {},
     "output_type": "execute_result"
    }
   ],
   "source": [
    "t.GetEntry(0)"
   ]
  },
  {
   "cell_type": "code",
   "execution_count": 80,
   "metadata": {},
   "outputs": [
    {
     "data": {
      "text/plain": [
       "0.1619206815958023"
      ]
     },
     "execution_count": 80,
     "metadata": {},
     "output_type": "execute_result"
    }
   ],
   "source": [
    "t.GetLeaf('cl.ly').GetValue(1027)"
   ]
  },
  {
   "cell_type": "code",
   "execution_count": 107,
   "metadata": {
    "scrolled": true
   },
   "outputs": [
    {
     "data": {
      "text/html": [
       "<div>\n",
       "<style>\n",
       "    .dataframe thead tr:only-child th {\n",
       "        text-align: right;\n",
       "    }\n",
       "\n",
       "    .dataframe thead th {\n",
       "        text-align: left;\n",
       "    }\n",
       "\n",
       "    .dataframe tbody tr th {\n",
       "        vertical-align: top;\n",
       "    }\n",
       "</style>\n",
       "<table border=\"1\" class=\"dataframe\">\n",
       "  <thead>\n",
       "    <tr style=\"text-align: right;\">\n",
       "      <th></th>\n",
       "      <th>ViewID</th>\n",
       "      <th>GrainID</th>\n",
       "      <th>pol0</th>\n",
       "      <th>pol1</th>\n",
       "      <th>pol2</th>\n",
       "      <th>pol3</th>\n",
       "      <th>pol4</th>\n",
       "      <th>pol5</th>\n",
       "      <th>pol6</th>\n",
       "    </tr>\n",
       "  </thead>\n",
       "  <tbody>\n",
       "    <tr>\n",
       "      <th>0</th>\n",
       "      <td>0</td>\n",
       "      <td>0</td>\n",
       "      <td>2128</td>\n",
       "      <td>2137</td>\n",
       "      <td>2147</td>\n",
       "      <td>2156</td>\n",
       "      <td>2163</td>\n",
       "      <td>2171</td>\n",
       "      <td>2177</td>\n",
       "    </tr>\n",
       "    <tr>\n",
       "      <th>1</th>\n",
       "      <td>0</td>\n",
       "      <td>4</td>\n",
       "      <td>2333</td>\n",
       "      <td>2337</td>\n",
       "      <td>2340</td>\n",
       "      <td>2343</td>\n",
       "      <td>2348</td>\n",
       "      <td>2349</td>\n",
       "      <td>2352</td>\n",
       "    </tr>\n",
       "    <tr>\n",
       "      <th>2</th>\n",
       "      <td>0</td>\n",
       "      <td>6</td>\n",
       "      <td>2533</td>\n",
       "      <td>2537</td>\n",
       "      <td>2538</td>\n",
       "      <td>2541</td>\n",
       "      <td>2544</td>\n",
       "      <td>2546</td>\n",
       "      <td>2548</td>\n",
       "    </tr>\n",
       "    <tr>\n",
       "      <th>3</th>\n",
       "      <td>0</td>\n",
       "      <td>19</td>\n",
       "      <td>1718</td>\n",
       "      <td>1719</td>\n",
       "      <td>1720</td>\n",
       "      <td>1721</td>\n",
       "      <td>1722</td>\n",
       "      <td>1713</td>\n",
       "      <td>1723</td>\n",
       "    </tr>\n",
       "    <tr>\n",
       "      <th>4</th>\n",
       "      <td>0</td>\n",
       "      <td>24</td>\n",
       "      <td>1658</td>\n",
       "      <td>1659</td>\n",
       "      <td>1661</td>\n",
       "      <td>1662</td>\n",
       "      <td>1663</td>\n",
       "      <td>1664</td>\n",
       "      <td>1665</td>\n",
       "    </tr>\n",
       "    <tr>\n",
       "      <th>5</th>\n",
       "      <td>0</td>\n",
       "      <td>28</td>\n",
       "      <td>1588</td>\n",
       "      <td>1589</td>\n",
       "      <td>1591</td>\n",
       "      <td>1594</td>\n",
       "      <td>1596</td>\n",
       "      <td>1598</td>\n",
       "      <td>1600</td>\n",
       "    </tr>\n",
       "    <tr>\n",
       "      <th>6</th>\n",
       "      <td>0</td>\n",
       "      <td>38</td>\n",
       "      <td>1481</td>\n",
       "      <td>1484</td>\n",
       "      <td>1486</td>\n",
       "      <td>1458</td>\n",
       "      <td>1460</td>\n",
       "      <td>1462</td>\n",
       "      <td>1465</td>\n",
       "    </tr>\n",
       "    <tr>\n",
       "      <th>7</th>\n",
       "      <td>0</td>\n",
       "      <td>39</td>\n",
       "      <td>2457</td>\n",
       "      <td>2459</td>\n",
       "      <td>2461</td>\n",
       "      <td>2446</td>\n",
       "      <td>2448</td>\n",
       "      <td>2450</td>\n",
       "      <td>2451</td>\n",
       "    </tr>\n",
       "    <tr>\n",
       "      <th>8</th>\n",
       "      <td>0</td>\n",
       "      <td>41</td>\n",
       "      <td>1538</td>\n",
       "      <td>1540</td>\n",
       "      <td>1542</td>\n",
       "      <td>1543</td>\n",
       "      <td>1544</td>\n",
       "      <td>1545</td>\n",
       "      <td>1547</td>\n",
       "    </tr>\n",
       "    <tr>\n",
       "      <th>9</th>\n",
       "      <td>0</td>\n",
       "      <td>57</td>\n",
       "      <td>1317</td>\n",
       "      <td>1321</td>\n",
       "      <td>1322</td>\n",
       "      <td>1324</td>\n",
       "      <td>1326</td>\n",
       "      <td>1328</td>\n",
       "      <td>1331</td>\n",
       "    </tr>\n",
       "  </tbody>\n",
       "</table>\n",
       "</div>"
      ],
      "text/plain": [
       "   ViewID  GrainID  pol0  pol1  pol2  pol3  pol4  pol5  pol6\n",
       "0       0        0  2128  2137  2147  2156  2163  2171  2177\n",
       "1       0        4  2333  2337  2340  2343  2348  2349  2352\n",
       "2       0        6  2533  2537  2538  2541  2544  2546  2548\n",
       "3       0       19  1718  1719  1720  1721  1722  1713  1723\n",
       "4       0       24  1658  1659  1661  1662  1663  1664  1665\n",
       "5       0       28  1588  1589  1591  1594  1596  1598  1600\n",
       "6       0       38  1481  1484  1486  1458  1460  1462  1465\n",
       "7       0       39  2457  2459  2461  2446  2448  2450  2451\n",
       "8       0       41  1538  1540  1542  1543  1544  1545  1547\n",
       "9       0       57  1317  1321  1322  1324  1326  1328  1331"
      ]
     },
     "execution_count": 107,
     "metadata": {},
     "output_type": "execute_result"
    }
   ],
   "source": [
    "copa = pd.read_csv(root_dir+'TestSample/yandex_bfcl_TestSample.txt').drop(['emp'],axis=1)\n",
    "copa.head(10)"
   ]
  },
  {
   "cell_type": "code",
   "execution_count": 128,
   "metadata": {},
   "outputs": [
    {
     "name": "stdout",
     "output_type": "stream",
     "text": [
      "CPU times: user 1min 45s, sys: 3.38 s, total: 1min 49s\n",
      "Wall time: 1min 49s\n"
     ]
    }
   ],
   "source": [
    "%%time\n",
    "pols = []\n",
    "for i in range(7):\n",
    "    pols.append(get_pol_feat(copa, i, root_dir, 'TestSample', feat_names))\n",
    "feat_data = stack_pols(pols, feat_names)"
   ]
  },
  {
   "cell_type": "code",
   "execution_count": 130,
   "metadata": {},
   "outputs": [
    {
     "data": {
      "text/html": [
       "<div>\n",
       "<style>\n",
       "    .dataframe thead tr:only-child th {\n",
       "        text-align: right;\n",
       "    }\n",
       "\n",
       "    .dataframe thead th {\n",
       "        text-align: left;\n",
       "    }\n",
       "\n",
       "    .dataframe tbody tr th {\n",
       "        vertical-align: top;\n",
       "    }\n",
       "</style>\n",
       "<table border=\"1\" class=\"dataframe\">\n",
       "  <thead>\n",
       "    <tr style=\"text-align: right;\">\n",
       "      <th></th>\n",
       "      <th>x0</th>\n",
       "      <th>y0</th>\n",
       "      <th>z0</th>\n",
       "      <th>lx0</th>\n",
       "      <th>ly0</th>\n",
       "      <th>phi0</th>\n",
       "      <th>npx0</th>\n",
       "      <th>vol0</th>\n",
       "      <th>x1</th>\n",
       "      <th>y1</th>\n",
       "      <th>...</th>\n",
       "      <th>npx5</th>\n",
       "      <th>vol5</th>\n",
       "      <th>x6</th>\n",
       "      <th>y6</th>\n",
       "      <th>z6</th>\n",
       "      <th>lx6</th>\n",
       "      <th>ly6</th>\n",
       "      <th>phi6</th>\n",
       "      <th>npx6</th>\n",
       "      <th>vol6</th>\n",
       "    </tr>\n",
       "  </thead>\n",
       "  <tbody>\n",
       "    <tr>\n",
       "      <th>0</th>\n",
       "      <td>20.7725</td>\n",
       "      <td>-15.9359</td>\n",
       "      <td>-22.95</td>\n",
       "      <td>0.181091</td>\n",
       "      <td>0.14048</td>\n",
       "      <td>0.267327</td>\n",
       "      <td>39</td>\n",
       "      <td>316</td>\n",
       "      <td>20.7633</td>\n",
       "      <td>-15.9407</td>\n",
       "      <td>...</td>\n",
       "      <td>45</td>\n",
       "      <td>355</td>\n",
       "      <td>20.7716</td>\n",
       "      <td>-15.9525</td>\n",
       "      <td>-22.95</td>\n",
       "      <td>0.187638</td>\n",
       "      <td>0.144514</td>\n",
       "      <td>0.395403</td>\n",
       "      <td>46</td>\n",
       "      <td>418</td>\n",
       "    </tr>\n",
       "    <tr>\n",
       "      <th>1</th>\n",
       "      <td>20.2258</td>\n",
       "      <td>22.9718</td>\n",
       "      <td>-23.95</td>\n",
       "      <td>0.737818</td>\n",
       "      <td>0.32068</td>\n",
       "      <td>0.608326</td>\n",
       "      <td>172</td>\n",
       "      <td>10548</td>\n",
       "      <td>20.2259</td>\n",
       "      <td>22.9667</td>\n",
       "      <td>...</td>\n",
       "      <td>37</td>\n",
       "      <td>415</td>\n",
       "      <td>20.5057</td>\n",
       "      <td>23.1455</td>\n",
       "      <td>-23.95</td>\n",
       "      <td>0.544898</td>\n",
       "      <td>0.303975</td>\n",
       "      <td>2.50439</td>\n",
       "      <td>27</td>\n",
       "      <td>268</td>\n",
       "    </tr>\n",
       "    <tr>\n",
       "      <th>2</th>\n",
       "      <td>20.0909</td>\n",
       "      <td>22.9088</td>\n",
       "      <td>-23.15</td>\n",
       "      <td>0.427617</td>\n",
       "      <td>0.215545</td>\n",
       "      <td>1.59147</td>\n",
       "      <td>60</td>\n",
       "      <td>1571</td>\n",
       "      <td>20.097</td>\n",
       "      <td>22.8952</td>\n",
       "      <td>...</td>\n",
       "      <td>9</td>\n",
       "      <td>236</td>\n",
       "      <td>20.2524</td>\n",
       "      <td>23.0559</td>\n",
       "      <td>-23.2</td>\n",
       "      <td>0.0688121</td>\n",
       "      <td>0.0688121</td>\n",
       "      <td>0</td>\n",
       "      <td>5</td>\n",
       "      <td>102</td>\n",
       "    </tr>\n",
       "    <tr>\n",
       "      <th>3</th>\n",
       "      <td>27.2961</td>\n",
       "      <td>22.7063</td>\n",
       "      <td>-15.2</td>\n",
       "      <td>0.163098</td>\n",
       "      <td>0.146182</td>\n",
       "      <td>0.81736</td>\n",
       "      <td>28</td>\n",
       "      <td>147</td>\n",
       "      <td>27.2934</td>\n",
       "      <td>22.712</td>\n",
       "      <td>...</td>\n",
       "      <td>6</td>\n",
       "      <td>16</td>\n",
       "      <td>27.296</td>\n",
       "      <td>22.6969</td>\n",
       "      <td>-15.25</td>\n",
       "      <td>0.209391</td>\n",
       "      <td>0.152747</td>\n",
       "      <td>3.04847</td>\n",
       "      <td>23</td>\n",
       "      <td>87</td>\n",
       "    </tr>\n",
       "    <tr>\n",
       "      <th>4</th>\n",
       "      <td>31.0651</td>\n",
       "      <td>16.1804</td>\n",
       "      <td>-12.95</td>\n",
       "      <td>0.288794</td>\n",
       "      <td>0.192397</td>\n",
       "      <td>2.89978</td>\n",
       "      <td>62</td>\n",
       "      <td>624</td>\n",
       "      <td>31.0564</td>\n",
       "      <td>16.1784</td>\n",
       "      <td>...</td>\n",
       "      <td>55</td>\n",
       "      <td>430</td>\n",
       "      <td>31.0325</td>\n",
       "      <td>16.1644</td>\n",
       "      <td>-13</td>\n",
       "      <td>0.257539</td>\n",
       "      <td>0.183618</td>\n",
       "      <td>3.04189</td>\n",
       "      <td>66</td>\n",
       "      <td>572</td>\n",
       "    </tr>\n",
       "  </tbody>\n",
       "</table>\n",
       "<p>5 rows × 56 columns</p>\n",
       "</div>"
      ],
      "text/plain": [
       "        x0       y0     z0       lx0       ly0      phi0 npx0   vol0       x1  \\\n",
       "0  20.7725 -15.9359 -22.95  0.181091   0.14048  0.267327   39    316  20.7633   \n",
       "1  20.2258  22.9718 -23.95  0.737818   0.32068  0.608326  172  10548  20.2259   \n",
       "2  20.0909  22.9088 -23.15  0.427617  0.215545   1.59147   60   1571   20.097   \n",
       "3  27.2961  22.7063  -15.2  0.163098  0.146182   0.81736   28    147  27.2934   \n",
       "4  31.0651  16.1804 -12.95  0.288794  0.192397   2.89978   62    624  31.0564   \n",
       "\n",
       "        y1 ...  npx5 vol5       x6       y6     z6        lx6        ly6  \\\n",
       "0 -15.9407 ...    45  355  20.7716 -15.9525 -22.95   0.187638   0.144514   \n",
       "1  22.9667 ...    37  415  20.5057  23.1455 -23.95   0.544898   0.303975   \n",
       "2  22.8952 ...     9  236  20.2524  23.0559  -23.2  0.0688121  0.0688121   \n",
       "3   22.712 ...     6   16   27.296  22.6969 -15.25   0.209391   0.152747   \n",
       "4  16.1784 ...    55  430  31.0325  16.1644    -13   0.257539   0.183618   \n",
       "\n",
       "       phi6 npx6 vol6  \n",
       "0  0.395403   46  418  \n",
       "1   2.50439   27  268  \n",
       "2         0    5  102  \n",
       "3   3.04847   23   87  \n",
       "4   3.04189   66  572  \n",
       "\n",
       "[5 rows x 56 columns]"
      ]
     },
     "execution_count": 130,
     "metadata": {},
     "output_type": "execute_result"
    }
   ],
   "source": [
    "feat_data.head(5)"
   ]
  },
  {
   "cell_type": "code",
   "execution_count": null,
   "metadata": {
    "collapsed": true
   },
   "outputs": [],
   "source": []
  },
  {
   "cell_type": "code",
   "execution_count": 87,
   "metadata": {},
   "outputs": [
    {
     "data": {
      "text/plain": [
       "0.2155449092388153"
      ]
     },
     "execution_count": 87,
     "metadata": {},
     "output_type": "execute_result"
    }
   ],
   "source": [
    "t.GetLeaf('cl.ly').GetValue(2533)"
   ]
  },
  {
   "cell_type": "code",
   "execution_count": 106,
   "metadata": {},
   "outputs": [
    {
     "data": {
      "text/plain": [
       "0.14048033952713013"
      ]
     },
     "execution_count": 106,
     "metadata": {},
     "output_type": "execute_result"
    }
   ],
   "source": [
    "t.GetLeaf('cl.ly').GetValue(int(coco))"
   ]
  },
  {
   "cell_type": "code",
   "execution_count": 18,
   "metadata": {},
   "outputs": [
    {
     "data": {
      "text/plain": [
       "1"
      ]
     },
     "execution_count": 18,
     "metadata": {},
     "output_type": "execute_result"
    },
    {
     "name": "stdout",
     "output_type": "stream",
     "text": [
      "(double) 1.7091978\n"
     ]
    }
   ],
   "source": [
    "ROOT.gROOT.ProcessLine(\"2*sin(2.1*4.0)\")"
   ]
  },
  {
   "cell_type": "code",
   "execution_count": 6,
   "metadata": {},
   "outputs": [
    {
     "data": {
      "text/plain": [
       "0"
      ]
     },
     "execution_count": 6,
     "metadata": {},
     "output_type": "execute_result"
    }
   ],
   "source": [
    "ROOT.gROOT.ProcessLine(\"struct staff_t { Float_t cl_x; TBranch b_cl_x; }\" )"
   ]
  },
  {
   "cell_type": "code",
   "execution_count": 9,
   "metadata": {
    "scrolled": false
   },
   "outputs": [
    {
     "data": {
      "text/plain": [
       "4"
      ]
     },
     "execution_count": 9,
     "metadata": {},
     "output_type": "execute_result"
    }
   ],
   "source": [
    "toto = ROOT.staff_t()\n",
    "t.SetBranchAddress('cl.x', ROOT.AddressOf(toto,'cl_x'))"
   ]
  }
 ],
 "metadata": {
  "kernelspec": {
   "display_name": "Python 3",
   "language": "python",
   "name": "python3"
  },
  "language_info": {
   "codemirror_mode": {
    "name": "ipython",
    "version": 3
   },
   "file_extension": ".py",
   "mimetype": "text/x-python",
   "name": "python",
   "nbconvert_exporter": "python",
   "pygments_lexer": "ipython3",
   "version": "3.6.4"
  }
 },
 "nbformat": 4,
 "nbformat_minor": 2
}
