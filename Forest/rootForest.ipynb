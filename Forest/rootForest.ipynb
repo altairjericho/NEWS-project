{
 "cells": [
  {
   "cell_type": "code",
   "execution_count": 2,
   "metadata": {
    "scrolled": true
   },
   "outputs": [
    {
     "name": "stdout",
     "output_type": "stream",
     "text": [
      "Welcome to JupyROOT 6.12/06\n"
     ]
    }
   ],
   "source": [
    "import ROOT"
   ]
  },
  {
   "cell_type": "code",
   "execution_count": 3,
   "metadata": {},
   "outputs": [],
   "source": [
    "import numpy as np\n",
    "import pandas as pd\n",
    "import matplotlib.pyplot as plt\n",
    "\n",
    "from sklearn.model_selection import train_test_split\n",
    "from sklearn.metrics import precision_score, accuracy_score, precision_recall_curve, roc_curve, roc_auc_score\n",
    "from sklearn.ensemble import RandomForestClassifier, GradientBoostingClassifier\n",
    "\n",
    "%matplotlib inline"
   ]
  },
  {
   "cell_type": "code",
   "execution_count": 14,
   "metadata": {},
   "outputs": [],
   "source": [
    "root_dir = '/home/scanner-ml/ML-drive/Artem/share/Valerio/'"
   ]
  },
  {
   "cell_type": "code",
   "execution_count": 5,
   "metadata": {},
   "outputs": [],
   "source": [
    "def get_pol_feat(id_frame, n_pol, root_dir, class_name, feat_names):\n",
    "    \n",
    "    f = ROOT.TFile.Open(root_dir+class_name+'/dm_tracks.dm.root','read')\n",
    "    t = f.Get('Vdmr')\n",
    "    all_feat = pd.DataFrame(columns=feat_names).values\n",
    "    \n",
    "    for pol_id in id_frame[['ViewID','pol'+str(n_pol)]].values:\n",
    "        pol_feat = []\n",
    "        t.GetEntry(int(pol_id[0]))\n",
    "        for name in feat_names:\n",
    "            pol_feat.append(t.GetLeaf('cl.'+name).GetValue(int(pol_id[1])))\n",
    "        all_feat = np.vstack((all_feat, pol_feat))\n",
    "    return pd.DataFrame(all_feat, columns=feat_names)"
   ]
  },
  {
   "cell_type": "code",
   "execution_count": 6,
   "metadata": {},
   "outputs": [],
   "source": [
    "def stack_pols(pol_frames, feat_names):\n",
    "    \n",
    "    stacked = pol_frames[0].drop(feat_names, axis=1).values\n",
    "    feat_array = []\n",
    "    for i in range(len(pol_frames)):\n",
    "        stacked = np.hstack((stacked,pol_frames[i]))\n",
    "        for name in feat_names:\n",
    "            feat_array.append(name+str(i))\n",
    "    return pd.DataFrame(stacked, columns=feat_array)"
   ]
  },
  {
   "cell_type": "code",
   "execution_count": 7,
   "metadata": {},
   "outputs": [],
   "source": [
    "def feat_to_input(ft_data, cl_names):\n",
    "    \"\"\"\n",
    "    Stacking data with names from 'cl_names' into one feature array\n",
    "    and labeling 'signal' with 1 and 'noise' with 0.\n",
    "    -------\n",
    "    Output:\n",
    "    X - array of features\n",
    "    y - array of corresponding target labels\n",
    "    \"\"\"\n",
    "    X = pd.DataFrame(columns=ft_data[cl_names[0]].columns).values\n",
    "    y = []\n",
    "    for name in cl_names:\n",
    "        idx = ft_data[name].index\n",
    "        if name[0] == 'C' :\n",
    "            targ = np.ones(len(idx))\n",
    "        else: targ = np.zeros(len(idx))\n",
    "        y = np.append(y,targ)\n",
    "        X = np.vstack((X, ft_data[name].values))\n",
    "    return X, y"
   ]
  },
  {
   "cell_type": "code",
   "execution_count": 8,
   "metadata": {},
   "outputs": [],
   "source": [
    "feat_names = ['x','y','z','lx','ly','phi','npx','vol']"
   ]
  },
  {
   "cell_type": "code",
   "execution_count": 9,
   "metadata": {},
   "outputs": [],
   "source": [
    "class_names = ['C100keV', 'TestSample']"
   ]
  },
  {
   "cell_type": "code",
   "execution_count": 11,
   "metadata": {},
   "outputs": [],
   "source": [
    "id_header = ['ViewID','GrainID','pol0','pol1','pol2','pol3','pol4','pol5','pol6','pol7']"
   ]
  },
  {
   "cell_type": "code",
   "execution_count": 10,
   "metadata": {},
   "outputs": [],
   "source": [
    "n_pols = 8"
   ]
  },
  {
   "cell_type": "code",
   "execution_count": 15,
   "metadata": {},
   "outputs": [],
   "source": [
    "pol_ids = {}\n",
    "for name in class_names:\n",
    "    pol_ids[name] = pd.read_csv(root_dir+name+'/bfcl_cuts_'+name+'.txt', header=None, names=id_header)"
   ]
  },
  {
   "cell_type": "code",
   "execution_count": 16,
   "metadata": {},
   "outputs": [
    {
     "name": "stdout",
     "output_type": "stream",
     "text": [
      "CPU times: user 9min 7s, sys: 2.83 s, total: 9min 10s\n",
      "Wall time: 9min 8s\n"
     ]
    },
    {
     "name": "stderr",
     "output_type": "stream",
     "text": [
      "Warning in <TClass::Init>: no dictionary for class DMRViewHeader is available\n",
      "Warning in <TClass::Init>: no dictionary for class DMRAffine2D is available\n",
      "Warning in <TClass::Init>: no dictionary for class DMRCluster is available\n",
      "Warning in <TClass::Init>: no dictionary for class DMRGrain is available\n",
      "Warning in <TClass::Init>: no dictionary for class DMRMicrotrack is available\n",
      "Warning in <TClass::Init>: no dictionary for class DMRImageCl is available\n",
      "Warning in <TClass::Init>: no dictionary for class DMRImage is available\n",
      "Warning in <TClass::Init>: no dictionary for class DMRFrame is available\n"
     ]
    }
   ],
   "source": [
    "%%time\n",
    "feat_data = {}\n",
    "for name in class_names:\n",
    "    pols = []\n",
    "    for i in range(n_pols):\n",
    "        pols.append(get_pol_feat(pol_ids[name], i, root_dir, name, feat_names))\n",
    "    feat_data[name] = stack_pols(pols, feat_names)"
   ]
  },
  {
   "cell_type": "code",
   "execution_count": 17,
   "metadata": {},
   "outputs": [],
   "source": [
    "copa = feat_data['C100keV']\n",
    "for i in range(n_pols):\n",
    "    copa = copa[ copa['lx'+str(i)]<1000 ]\n",
    "feat_data['C100keV'] = copa"
   ]
  },
  {
   "cell_type": "code",
   "execution_count": 18,
   "metadata": {},
   "outputs": [],
   "source": [
    "topa = feat_data['TestSample']\n",
    "for i in range(n_pols):\n",
    "    topa = topa[ topa['lx'+str(i)]<1000 ]\n",
    "feat_data['TestSample'] = topa"
   ]
  },
  {
   "cell_type": "code",
   "execution_count": 19,
   "metadata": {},
   "outputs": [],
   "source": [
    "X, y = feat_to_input(feat_data, class_names)\n",
    "X_train, X_test, y_train, y_test = train_test_split(X,y, test_size=0.2)"
   ]
  },
  {
   "cell_type": "code",
   "execution_count": 20,
   "metadata": {},
   "outputs": [
    {
     "data": {
      "text/plain": [
       "(18542, 64)"
      ]
     },
     "execution_count": 20,
     "metadata": {},
     "output_type": "execute_result"
    }
   ],
   "source": [
    "X_train.shape"
   ]
  },
  {
   "cell_type": "markdown",
   "metadata": {},
   "source": [
    "### Training"
   ]
  },
  {
   "cell_type": "code",
   "execution_count": 21,
   "metadata": {},
   "outputs": [
    {
     "name": "stdout",
     "output_type": "stream",
     "text": [
      "precision  0.9093637454981993\n"
     ]
    }
   ],
   "source": [
    "randcla = RandomForestClassifier(n_estimators=100, n_jobs=-1)\n",
    "randcla.fit(X_train, y_train)\n",
    "print ('precision ', precision_score(y_test, randcla.predict(X_test)))"
   ]
  },
  {
   "cell_type": "code",
   "execution_count": 22,
   "metadata": {},
   "outputs": [
    {
     "data": {
      "text/plain": [
       "Index(['y6', 'x1', 'y7', 'x5', 'y0', 'y3', 'x0', 'x2', 'x7', 'y5', 'x3', 'y1',\n",
       "       'y4', 'x4', 'y2', 'x6', 'phi6', 'phi0', 'ly6', 'ly5', 'phi7', 'ly0',\n",
       "       'phi5', 'phi1', 'phi4', 'phi2', 'ly7', 'ly2', 'phi3', 'ly1', 'ly3',\n",
       "       'lx3', 'lx2', 'ly4', 'npx2', 'lx4', 'lx5', 'lx1', 'lx6', 'vol7', 'vol2',\n",
       "       'npx6', 'npx5', 'lx0', 'lx7', 'vol6', 'vol5', 'vol1', 'npx1', 'npx7',\n",
       "       'vol0', 'npx3', 'npx0', 'vol3', 'vol4', 'npx4', 'z7', 'z4', 'z1', 'z3',\n",
       "       'z0', 'z6', 'z5', 'z2'],\n",
       "      dtype='object')"
      ]
     },
     "execution_count": 22,
     "metadata": {},
     "output_type": "execute_result"
    }
   ],
   "source": [
    "feat_data['C100keV'].columns[np.argsort(randcla.feature_importances_)]"
   ]
  },
  {
   "cell_type": "markdown",
   "metadata": {},
   "source": [
    "* Dropping unphysical 'z'"
   ]
  },
  {
   "cell_type": "code",
   "execution_count": 23,
   "metadata": {},
   "outputs": [],
   "source": [
    "feat_noz_data = {}\n",
    "for name in class_names:\n",
    "    copa = feat_data[name]\n",
    "    for i in range(n_pols):\n",
    "        copa = copa.drop(['z'+str(i)],axis=1)\n",
    "    feat_noz_data[name] = copa"
   ]
  },
  {
   "cell_type": "code",
   "execution_count": 24,
   "metadata": {},
   "outputs": [],
   "source": [
    "X, y = feat_to_input(feat_noz_data, class_names)\n",
    "X_train, X_test, y_train, y_test = train_test_split(X,y, test_size=0.25)"
   ]
  },
  {
   "cell_type": "code",
   "execution_count": 25,
   "metadata": {},
   "outputs": [
    {
     "name": "stdout",
     "output_type": "stream",
     "text": [
      "precision  0.8401582131223825\n"
     ]
    }
   ],
   "source": [
    "randcla = RandomForestClassifier(n_estimators=100, n_jobs=-1)\n",
    "randcla.fit(X_train, y_train)\n",
    "print ('precision ', precision_score(y_test, randcla.predict(X_test)))"
   ]
  },
  {
   "cell_type": "code",
   "execution_count": 26,
   "metadata": {},
   "outputs": [
    {
     "data": {
      "text/plain": [
       "Index(['y6', 'y5', 'x2', 'y0', 'x6', 'x5', 'y2', 'x0', 'y1', 'y4', 'y7', 'x7',\n",
       "       'x4', 'x1', 'y3', 'x3', 'phi2', 'phi1', 'phi3', 'phi4', 'ly7', 'phi0',\n",
       "       'phi7', 'ly0', 'phi6', 'phi5', 'ly6', 'lx2', 'lx3', 'ly1', 'ly2', 'ly4',\n",
       "       'ly5', 'ly3', 'lx1', 'npx6', 'lx4', 'lx5', 'lx6', 'lx0', 'lx7', 'vol5',\n",
       "       'vol2', 'vol6', 'vol7', 'npx5', 'vol0', 'vol1', 'npx2', 'npx0', 'npx7',\n",
       "       'vol3', 'npx4', 'npx3', 'vol4', 'npx1'],\n",
       "      dtype='object')"
      ]
     },
     "execution_count": 26,
     "metadata": {},
     "output_type": "execute_result"
    }
   ],
   "source": [
    "feat_noz_data['C100keV'].columns[np.argsort(randcla.feature_importances_)]"
   ]
  },
  {
   "cell_type": "markdown",
   "metadata": {},
   "source": [
    "### Performance without directionallity"
   ]
  },
  {
   "cell_type": "code",
   "execution_count": 27,
   "metadata": {},
   "outputs": [],
   "source": [
    "feat_noz_nophi_data = {}\n",
    "for name in class_names:\n",
    "    copa = feat_noz_data[name]\n",
    "    for i in range(n_pols):\n",
    "        copa = copa.drop(['phi'+str(i)],axis=1)\n",
    "    feat_noz_nophi_data[name] = copa"
   ]
  },
  {
   "cell_type": "code",
   "execution_count": 28,
   "metadata": {},
   "outputs": [],
   "source": [
    "X, y = feat_to_input(feat_noz_nophi_data, class_names)\n",
    "X_train, X_test, y_train, y_test = train_test_split(X,y, test_size=0.25)"
   ]
  },
  {
   "cell_type": "code",
   "execution_count": 29,
   "metadata": {},
   "outputs": [
    {
     "name": "stdout",
     "output_type": "stream",
     "text": [
      "precision  0.8354312354312354\n",
      "CPU times: user 1min 58s, sys: 295 ms, total: 1min 58s\n",
      "Wall time: 11.2 s\n"
     ]
    }
   ],
   "source": [
    "%%time\n",
    "randcla = RandomForestClassifier(n_estimators=1000, n_jobs=-1)\n",
    "randcla.fit(X_train, y_train)\n",
    "print ('precision ', precision_score(y_test, randcla.predict(X_test)))"
   ]
  },
  {
   "cell_type": "code",
   "execution_count": 30,
   "metadata": {},
   "outputs": [
    {
     "data": {
      "text/plain": [
       "Index(['y5', 'y7', 'y4', 'y1', 'y3', 'y6', 'y0', 'y2', 'x5', 'x0', 'x7', 'x4',\n",
       "       'x6', 'x3', 'x1', 'x2', 'ly6', 'ly0', 'ly7', 'lx2', 'lx1', 'lx3', 'ly1',\n",
       "       'ly5', 'ly2', 'ly4', 'lx4', 'ly3', 'lx5', 'npx6', 'lx6', 'lx0', 'vol7',\n",
       "       'lx7', 'vol6', 'npx5', 'vol2', 'vol0', 'npx7', 'npx2', 'vol5', 'vol1',\n",
       "       'npx0', 'vol3', 'npx3', 'npx1', 'npx4', 'vol4'],\n",
       "      dtype='object')"
      ]
     },
     "execution_count": 30,
     "metadata": {},
     "output_type": "execute_result"
    }
   ],
   "source": [
    "feat_noz_nophi_data['C100keV'].columns[np.argsort(randcla.feature_importances_)]"
   ]
  },
  {
   "cell_type": "code",
   "execution_count": 31,
   "metadata": {},
   "outputs": [
    {
     "data": {
      "text/plain": [
       "0.8474960764247178"
      ]
     },
     "execution_count": 31,
     "metadata": {},
     "output_type": "execute_result"
    }
   ],
   "source": [
    "roc_auc_score(y_test, randcla.predict_proba(X_test)[:,1])"
   ]
  },
  {
   "cell_type": "code",
   "execution_count": 32,
   "metadata": {
    "scrolled": true
   },
   "outputs": [
    {
     "name": "stdout",
     "output_type": "stream",
     "text": [
      "0.8453369441813654\n",
      "CPU times: user 1min 6s, sys: 39.7 ms, total: 1min 6s\n",
      "Wall time: 1min 6s\n"
     ]
    }
   ],
   "source": [
    "%%time\n",
    "boocla = GradientBoostingClassifier(n_estimators=1000)\n",
    "boocla.fit(X_train, y_train)\n",
    "print(roc_auc_score(y_test, boocla.predict_proba(X_test)[:,1]))"
   ]
  },
  {
   "cell_type": "markdown",
   "metadata": {},
   "source": [
    "* 10000"
   ]
  },
  {
   "cell_type": "code",
   "execution_count": 33,
   "metadata": {},
   "outputs": [
    {
     "name": "stdout",
     "output_type": "stream",
     "text": [
      "0.8476125189254393\n",
      "CPU times: user 19min 42s, sys: 2.48 s, total: 19min 44s\n",
      "Wall time: 1min 50s\n"
     ]
    }
   ],
   "source": [
    "%%time\n",
    "randcla = RandomForestClassifier(n_estimators=10000, n_jobs=-1)\n",
    "randcla.fit(X_train, y_train)\n",
    "print(roc_auc_score(y_test, randcla.predict_proba(X_test)[:,1]))"
   ]
  },
  {
   "cell_type": "code",
   "execution_count": 34,
   "metadata": {},
   "outputs": [
    {
     "name": "stdout",
     "output_type": "stream",
     "text": [
      "0.8354396142474747\n",
      "CPU times: user 10min 56s, sys: 439 ms, total: 10min 57s\n",
      "Wall time: 10min 56s\n"
     ]
    }
   ],
   "source": [
    "%%time\n",
    "boocla = GradientBoostingClassifier(n_estimators=10000)\n",
    "boocla.fit(X_train, y_train)\n",
    "print(roc_auc_score(y_test, boocla.predict_proba(X_test)[:,1]))"
   ]
  },
  {
   "cell_type": "markdown",
   "metadata": {},
   "source": [
    "### No volume"
   ]
  },
  {
   "cell_type": "code",
   "execution_count": 35,
   "metadata": {},
   "outputs": [],
   "source": [
    "feat_noz_novol_data = {}\n",
    "for name in class_names:\n",
    "    copa = feat_noz_data[name]\n",
    "    for i in range(n_pols):\n",
    "        copa = copa.drop(['vol'+str(i)],axis=1)\n",
    "    feat_noz_novol_data[name] = copa"
   ]
  },
  {
   "cell_type": "code",
   "execution_count": 36,
   "metadata": {},
   "outputs": [],
   "source": [
    "X, y = feat_to_input(feat_noz_novol_data, class_names)\n",
    "X_train, X_test, y_train, y_test = train_test_split(X,y, test_size=0.25)"
   ]
  },
  {
   "cell_type": "code",
   "execution_count": 37,
   "metadata": {},
   "outputs": [
    {
     "name": "stdout",
     "output_type": "stream",
     "text": [
      "precision  0.8280815569972196\n",
      "CPU times: user 2min 1s, sys: 228 ms, total: 2min 1s\n",
      "Wall time: 11.5 s\n"
     ]
    }
   ],
   "source": [
    "%%time\n",
    "randcla = RandomForestClassifier(n_estimators=1000, n_jobs=-1)\n",
    "randcla.fit(X_train, y_train)\n",
    "print ('precision ', precision_score(y_test, randcla.predict(X_test)))"
   ]
  },
  {
   "cell_type": "code",
   "execution_count": 38,
   "metadata": {},
   "outputs": [
    {
     "data": {
      "text/plain": [
       "Index(['y5', 'y3', 'y4', 'y6', 'y7', 'y0', 'y2', 'y1', 'x6', 'x4', 'x7', 'x2',\n",
       "       'x3', 'x5', 'x1', 'x0', 'phi7', 'phi2', 'phi1', 'phi3', 'phi0', 'phi5',\n",
       "       'phi4', 'lx2', 'phi6', 'lx1', 'ly7', 'ly6', 'lx3', 'ly0', 'ly2', 'ly5',\n",
       "       'lx6', 'lx5', 'lx7', 'lx4', 'lx0', 'ly1', 'ly3', 'ly4', 'npx6', 'npx7',\n",
       "       'npx5', 'npx2', 'npx1', 'npx0', 'npx3', 'npx4'],\n",
       "      dtype='object')"
      ]
     },
     "execution_count": 38,
     "metadata": {},
     "output_type": "execute_result"
    }
   ],
   "source": [
    "feat_noz_novol_data['C100keV'].columns[np.argsort(randcla.feature_importances_)]"
   ]
  },
  {
   "cell_type": "code",
   "execution_count": 39,
   "metadata": {},
   "outputs": [
    {
     "data": {
      "text/plain": [
       "0.8444161438073231"
      ]
     },
     "execution_count": 39,
     "metadata": {},
     "output_type": "execute_result"
    }
   ],
   "source": [
    "roc_auc_score(y_test, randcla.predict_proba(X_test)[:,1])"
   ]
  },
  {
   "cell_type": "code",
   "execution_count": null,
   "metadata": {},
   "outputs": [],
   "source": []
  },
  {
   "cell_type": "markdown",
   "metadata": {},
   "source": [
    "# Multi-run plot"
   ]
  },
  {
   "cell_type": "code",
   "execution_count": 40,
   "metadata": {},
   "outputs": [
    {
     "name": "stdout",
     "output_type": "stream",
     "text": [
      "boo  [0.8399151129561943, 0.8432597803533994, 0.8497912720000497, 0.848349323029844, 0.8428326380433145, 0.8407852594380192] \n",
      "rand  [0.8380459511787407, 0.8438551993913557, 0.8468197460861385, 0.8463314827358088, 0.8474277841162561, 0.8469190060915189]\n",
      "boo  [0.8395262124362166, 0.844075262196091, 0.8491289649434115, 0.847930405476985, 0.8372200648427706, 0.8347015588307996] \n",
      "rand  [0.84151696053375, 0.8458695149593023, 0.8481237281944666, 0.8477002528161802, 0.8484179539214647, 0.8485758260942493]\n",
      "boo  [0.8408393802362673, 0.8446740236623504, 0.8485284895790732, 0.8485311325778251, 0.8415328891982587, 0.838816442902046] \n",
      "rand  [0.8459344558566347, 0.8472626322820875, 0.8508566932691446, 0.8501019084676673, 0.851065629275746, 0.8510711239310462]\n",
      "boo  [0.8548342728093641, 0.8581297896173056, 0.862784620525756, 0.8606011798439277, 0.8504671087264686, 0.8470093110754131] \n",
      "rand  [0.8534555924409922, 0.858379360025422, 0.8595199907946616, 0.8607116523865179, 0.8613016874380491, 0.8610187561597454]\n",
      "boo  [0.8377211285771597, 0.8426977561218805, 0.8486154303274926, 0.8488247836496863, 0.8408558642021677, 0.8371089266030901] \n",
      "rand  [0.8366758921233629, 0.8422181214010007, 0.8440167516043002, 0.8461047206183394, 0.8455841194168042, 0.8459206148894864]\n",
      "CPU times: user 4h 13min 12s, sys: 20.9 s, total: 4h 13min 33s\n",
      "Wall time: 1h 44min 20s\n"
     ]
    }
   ],
   "source": [
    "%%time\n",
    "n_est = [50, 100, 500, 1000, 5000, 10000]\n",
    "boo_aucs = pd.DataFrame(columns=n_est).values\n",
    "rand_aucs = pd.DataFrame(columns=n_est).values\n",
    "for run in range(5):\n",
    "    X, y = feat_to_input(feat_noz_nophi_data, class_names)\n",
    "    X_train, X_test, y_train, y_test = train_test_split(X,y, test_size=0.25, random_state=(145*run))\n",
    "    boo_rocs = []\n",
    "    rand_rocs = []\n",
    "    for n in n_est:\n",
    "        boocla.set_params(n_estimators=n)\n",
    "        boocla.fit(X_train, y_train)\n",
    "        boo_rocs.append(roc_auc_score(y_test, boocla.predict_proba(X_test)[:,1]))\n",
    "        \n",
    "        randcla.set_params(n_estimators=n)\n",
    "        randcla.fit(X_train, y_train)\n",
    "        rand_rocs.append(roc_auc_score(y_test, randcla.predict_proba(X_test)[:,1]))\n",
    "        \n",
    "    print('boo ',boo_rocs ,'\\nrand ', rand_rocs)\n",
    "    boo_aucs = np.vstack((boo_aucs, boo_rocs))\n",
    "    rand_aucs = np.vstack((rand_aucs, rand_rocs))\n"
   ]
  },
  {
   "cell_type": "code",
   "execution_count": 41,
   "metadata": {},
   "outputs": [],
   "source": [
    "boo_means = boo_aucs.mean(axis=0)\n",
    "rand_means = rand_aucs.mean(axis=0)\n",
    "boo_vars = boo_aucs.var(axis=0)\n",
    "rand_vars = rand_aucs.var(axis=0)"
   ]
  },
  {
   "cell_type": "code",
   "execution_count": 42,
   "metadata": {
    "scrolled": false
   },
   "outputs": [
    {
     "data": {
      "image/png": "[encoded data removed]",
      "text/plain": [
       "<matplotlib.figure.Figure at 0x7ff74432df60>"
      ]
     },
     "metadata": {},
     "output_type": "display_data"
    }
   ],
   "source": [
    "#plot\n",
    "plt.figure(figsize=(12,8))\n",
    "plt.errorbar(n_est, boo_means, yerr=np.sqrt(np.array(boo_vars, dtype=float)), label='Boosted Decision Trees')\n",
    "plt.errorbar(n_est, rand_means, yerr=np.sqrt(np.array(rand_vars, dtype=float)), label='Random Forest')\n",
    "plt.title('Trees classifiers ROC-AUC scores')\n",
    "plt.ylabel('roc-auc')\n",
    "plt.xlabel('n_trees')\n",
    "plt.xscale('log')\n",
    "plt.legend()\n",
    "plt.savefig('trees.pdf')"
   ]
  },
  {
   "cell_type": "code",
   "execution_count": null,
   "metadata": {
    "collapsed": true
   },
   "outputs": [],
   "source": []
  },
  {
   "cell_type": "code",
   "execution_count": null,
   "metadata": {
    "collapsed": true
   },
   "outputs": [],
   "source": []
  },
  {
   "cell_type": "code",
   "execution_count": null,
   "metadata": {
    "collapsed": true
   },
   "outputs": [],
   "source": []
  },
  {
   "cell_type": "code",
   "execution_count": null,
   "metadata": {
    "collapsed": true
   },
   "outputs": [],
   "source": []
  },
  {
   "cell_type": "markdown",
   "metadata": {},
   "source": [
    "# 51. TESTING AREA"
   ]
  },
  {
   "cell_type": "code",
   "execution_count": null,
   "metadata": {
    "collapsed": true
   },
   "outputs": [],
   "source": [
    "feat_data['TestSample']['phi0'].hist()"
   ]
  },
  {
   "cell_type": "code",
   "execution_count": null,
   "metadata": {
    "collapsed": true
   },
   "outputs": [],
   "source": []
  },
  {
   "cell_type": "code",
   "execution_count": 3,
   "metadata": {
    "scrolled": false
   },
   "outputs": [
    {
     "name": "stderr",
     "output_type": "stream",
     "text": [
      "Warning in <TClass::Init>: no dictionary for class DMRViewHeader is available\n",
      "Warning in <TClass::Init>: no dictionary for class DMRAffine2D is available\n",
      "Warning in <TClass::Init>: no dictionary for class DMRCluster is available\n",
      "Warning in <TClass::Init>: no dictionary for class DMRGrain is available\n",
      "Warning in <TClass::Init>: no dictionary for class DMRMicrotrack is available\n",
      "Warning in <TClass::Init>: no dictionary for class DMRImageCl is available\n",
      "Warning in <TClass::Init>: no dictionary for class DMRImage is available\n",
      "Warning in <TClass::Init>: no dictionary for class DMRFrame is available\n"
     ]
    }
   ],
   "source": [
    "f = ROOT.TFile.Open('/home/artem145/NEWS/root_files/Valerio/TestSample/dm_tracks.dm.root','read')"
   ]
  },
  {
   "cell_type": "code",
   "execution_count": 4,
   "metadata": {
    "collapsed": true,
    "scrolled": true
   },
   "outputs": [],
   "source": [
    "t = f.Get('Vdmr')"
   ]
  },
  {
   "cell_type": "code",
   "execution_count": 79,
   "metadata": {},
   "outputs": [
    {
     "data": {
      "text/plain": [
       "480528"
      ]
     },
     "execution_count": 79,
     "metadata": {},
     "output_type": "execute_result"
    }
   ],
   "source": [
    "t.GetEntry(0)"
   ]
  },
  {
   "cell_type": "code",
   "execution_count": 80,
   "metadata": {},
   "outputs": [
    {
     "data": {
      "text/plain": [
       "0.1619206815958023"
      ]
     },
     "execution_count": 80,
     "metadata": {},
     "output_type": "execute_result"
    }
   ],
   "source": [
    "t.GetLeaf('cl.ly').GetValue(1027)"
   ]
  },
  {
   "cell_type": "code",
   "execution_count": 107,
   "metadata": {
    "scrolled": true
   },
   "outputs": [
    {
     "data": {
      "text/html": [
       "<div>\n",
       "<style>\n",
       "    .dataframe thead tr:only-child th {\n",
       "        text-align: right;\n",
       "    }\n",
       "\n",
       "    .dataframe thead th {\n",
       "        text-align: left;\n",
       "    }\n",
       "\n",
       "    .dataframe tbody tr th {\n",
       "        vertical-align: top;\n",
       "    }\n",
       "</style>\n",
       "<table border=\"1\" class=\"dataframe\">\n",
       "  <thead>\n",
       "    <tr style=\"text-align: right;\">\n",
       "      <th></th>\n",
       "      <th>ViewID</th>\n",
       "      <th>GrainID</th>\n",
       "      <th>pol0</th>\n",
       "      <th>pol1</th>\n",
       "      <th>pol2</th>\n",
       "      <th>pol3</th>\n",
       "      <th>pol4</th>\n",
       "      <th>pol5</th>\n",
       "      <th>pol6</th>\n",
       "    </tr>\n",
       "  </thead>\n",
       "  <tbody>\n",
       "    <tr>\n",
       "      <th>0</th>\n",
       "      <td>0</td>\n",
       "      <td>0</td>\n",
       "      <td>2128</td>\n",
       "      <td>2137</td>\n",
       "      <td>2147</td>\n",
       "      <td>2156</td>\n",
       "      <td>2163</td>\n",
       "      <td>2171</td>\n",
       "      <td>2177</td>\n",
       "    </tr>\n",
       "    <tr>\n",
       "      <th>1</th>\n",
       "      <td>0</td>\n",
       "      <td>4</td>\n",
       "      <td>2333</td>\n",
       "      <td>2337</td>\n",
       "      <td>2340</td>\n",
       "      <td>2343</td>\n",
       "      <td>2348</td>\n",
       "      <td>2349</td>\n",
       "      <td>2352</td>\n",
       "    </tr>\n",
       "    <tr>\n",
       "      <th>2</th>\n",
       "      <td>0</td>\n",
       "      <td>6</td>\n",
       "      <td>2533</td>\n",
       "      <td>2537</td>\n",
       "      <td>2538</td>\n",
       "      <td>2541</td>\n",
       "      <td>2544</td>\n",
       "      <td>2546</td>\n",
       "      <td>2548</td>\n",
       "    </tr>\n",
       "    <tr>\n",
       "      <th>3</th>\n",
       "      <td>0</td>\n",
       "      <td>19</td>\n",
       "      <td>1718</td>\n",
       "      <td>1719</td>\n",
       "      <td>1720</td>\n",
       "      <td>1721</td>\n",
       "      <td>1722</td>\n",
       "      <td>1713</td>\n",
       "      <td>1723</td>\n",
       "    </tr>\n",
       "    <tr>\n",
       "      <th>4</th>\n",
       "      <td>0</td>\n",
       "      <td>24</td>\n",
       "      <td>1658</td>\n",
       "      <td>1659</td>\n",
       "      <td>1661</td>\n",
       "      <td>1662</td>\n",
       "      <td>1663</td>\n",
       "      <td>1664</td>\n",
       "      <td>1665</td>\n",
       "    </tr>\n",
       "    <tr>\n",
       "      <th>5</th>\n",
       "      <td>0</td>\n",
       "      <td>28</td>\n",
       "      <td>1588</td>\n",
       "      <td>1589</td>\n",
       "      <td>1591</td>\n",
       "      <td>1594</td>\n",
       "      <td>1596</td>\n",
       "      <td>1598</td>\n",
       "      <td>1600</td>\n",
       "    </tr>\n",
       "    <tr>\n",
       "      <th>6</th>\n",
       "      <td>0</td>\n",
       "      <td>38</td>\n",
       "      <td>1481</td>\n",
       "      <td>1484</td>\n",
       "      <td>1486</td>\n",
       "      <td>1458</td>\n",
       "      <td>1460</td>\n",
       "      <td>1462</td>\n",
       "      <td>1465</td>\n",
       "    </tr>\n",
       "    <tr>\n",
       "      <th>7</th>\n",
       "      <td>0</td>\n",
       "      <td>39</td>\n",
       "      <td>2457</td>\n",
       "      <td>2459</td>\n",
       "      <td>2461</td>\n",
       "      <td>2446</td>\n",
       "      <td>2448</td>\n",
       "      <td>2450</td>\n",
       "      <td>2451</td>\n",
       "    </tr>\n",
       "    <tr>\n",
       "      <th>8</th>\n",
       "      <td>0</td>\n",
       "      <td>41</td>\n",
       "      <td>1538</td>\n",
       "      <td>1540</td>\n",
       "      <td>1542</td>\n",
       "      <td>1543</td>\n",
       "      <td>1544</td>\n",
       "      <td>1545</td>\n",
       "      <td>1547</td>\n",
       "    </tr>\n",
       "    <tr>\n",
       "      <th>9</th>\n",
       "      <td>0</td>\n",
       "      <td>57</td>\n",
       "      <td>1317</td>\n",
       "      <td>1321</td>\n",
       "      <td>1322</td>\n",
       "      <td>1324</td>\n",
       "      <td>1326</td>\n",
       "      <td>1328</td>\n",
       "      <td>1331</td>\n",
       "    </tr>\n",
       "  </tbody>\n",
       "</table>\n",
       "</div>"
      ],
      "text/plain": [
       "   ViewID  GrainID  pol0  pol1  pol2  pol3  pol4  pol5  pol6\n",
       "0       0        0  2128  2137  2147  2156  2163  2171  2177\n",
       "1       0        4  2333  2337  2340  2343  2348  2349  2352\n",
       "2       0        6  2533  2537  2538  2541  2544  2546  2548\n",
       "3       0       19  1718  1719  1720  1721  1722  1713  1723\n",
       "4       0       24  1658  1659  1661  1662  1663  1664  1665\n",
       "5       0       28  1588  1589  1591  1594  1596  1598  1600\n",
       "6       0       38  1481  1484  1486  1458  1460  1462  1465\n",
       "7       0       39  2457  2459  2461  2446  2448  2450  2451\n",
       "8       0       41  1538  1540  1542  1543  1544  1545  1547\n",
       "9       0       57  1317  1321  1322  1324  1326  1328  1331"
      ]
     },
     "execution_count": 107,
     "metadata": {},
     "output_type": "execute_result"
    }
   ],
   "source": [
    "copa = pd.read_csv(root_dir+'TestSample/yandex_bfcl_TestSample.txt').drop(['emp'],axis=1)\n",
    "copa.head(10)"
   ]
  },
  {
   "cell_type": "code",
   "execution_count": 128,
   "metadata": {},
   "outputs": [
    {
     "name": "stdout",
     "output_type": "stream",
     "text": [
      "CPU times: user 1min 45s, sys: 3.38 s, total: 1min 49s\n",
      "Wall time: 1min 49s\n"
     ]
    }
   ],
   "source": [
    "%%time\n",
    "pols = []\n",
    "for i in range(7):\n",
    "    pols.append(get_pol_feat(copa, i, root_dir, 'TestSample', feat_names))\n",
    "feat_data = stack_pols(pols, feat_names)"
   ]
  },
  {
   "cell_type": "code",
   "execution_count": 130,
   "metadata": {},
   "outputs": [
    {
     "data": {
      "text/html": [
       "<div>\n",
       "<style>\n",
       "    .dataframe thead tr:only-child th {\n",
       "        text-align: right;\n",
       "    }\n",
       "\n",
       "    .dataframe thead th {\n",
       "        text-align: left;\n",
       "    }\n",
       "\n",
       "    .dataframe tbody tr th {\n",
       "        vertical-align: top;\n",
       "    }\n",
       "</style>\n",
       "<table border=\"1\" class=\"dataframe\">\n",
       "  <thead>\n",
       "    <tr style=\"text-align: right;\">\n",
       "      <th></th>\n",
       "      <th>x0</th>\n",
       "      <th>y0</th>\n",
       "      <th>z0</th>\n",
       "      <th>lx0</th>\n",
       "      <th>ly0</th>\n",
       "      <th>phi0</th>\n",
       "      <th>npx0</th>\n",
       "      <th>vol0</th>\n",
       "      <th>x1</th>\n",
       "      <th>y1</th>\n",
       "      <th>...</th>\n",
       "      <th>npx5</th>\n",
       "      <th>vol5</th>\n",
       "      <th>x6</th>\n",
       "      <th>y6</th>\n",
       "      <th>z6</th>\n",
       "      <th>lx6</th>\n",
       "      <th>ly6</th>\n",
       "      <th>phi6</th>\n",
       "      <th>npx6</th>\n",
       "      <th>vol6</th>\n",
       "    </tr>\n",
       "  </thead>\n",
       "  <tbody>\n",
       "    <tr>\n",
       "      <th>0</th>\n",
       "      <td>20.7725</td>\n",
       "      <td>-15.9359</td>\n",
       "      <td>-22.95</td>\n",
       "      <td>0.181091</td>\n",
       "      <td>0.14048</td>\n",
       "      <td>0.267327</td>\n",
       "      <td>39</td>\n",
       "      <td>316</td>\n",
       "      <td>20.7633</td>\n",
       "      <td>-15.9407</td>\n",
       "      <td>...</td>\n",
       "      <td>45</td>\n",
       "      <td>355</td>\n",
       "      <td>20.7716</td>\n",
       "      <td>-15.9525</td>\n",
       "      <td>-22.95</td>\n",
       "      <td>0.187638</td>\n",
       "      <td>0.144514</td>\n",
       "      <td>0.395403</td>\n",
       "      <td>46</td>\n",
       "      <td>418</td>\n",
       "    </tr>\n",
       "    <tr>\n",
       "      <th>1</th>\n",
       "      <td>20.2258</td>\n",
       "      <td>22.9718</td>\n",
       "      <td>-23.95</td>\n",
       "      <td>0.737818</td>\n",
       "      <td>0.32068</td>\n",
       "      <td>0.608326</td>\n",
       "      <td>172</td>\n",
       "      <td>10548</td>\n",
       "      <td>20.2259</td>\n",
       "      <td>22.9667</td>\n",
       "      <td>...</td>\n",
       "      <td>37</td>\n",
       "      <td>415</td>\n",
       "      <td>20.5057</td>\n",
       "      <td>23.1455</td>\n",
       "      <td>-23.95</td>\n",
       "      <td>0.544898</td>\n",
       "      <td>0.303975</td>\n",
       "      <td>2.50439</td>\n",
       "      <td>27</td>\n",
       "      <td>268</td>\n",
       "    </tr>\n",
       "    <tr>\n",
       "      <th>2</th>\n",
       "      <td>20.0909</td>\n",
       "      <td>22.9088</td>\n",
       "      <td>-23.15</td>\n",
       "      <td>0.427617</td>\n",
       "      <td>0.215545</td>\n",
       "      <td>1.59147</td>\n",
       "      <td>60</td>\n",
       "      <td>1571</td>\n",
       "      <td>20.097</td>\n",
       "      <td>22.8952</td>\n",
       "      <td>...</td>\n",
       "      <td>9</td>\n",
       "      <td>236</td>\n",
       "      <td>20.2524</td>\n",
       "      <td>23.0559</td>\n",
       "      <td>-23.2</td>\n",
       "      <td>0.0688121</td>\n",
       "      <td>0.0688121</td>\n",
       "      <td>0</td>\n",
       "      <td>5</td>\n",
       "      <td>102</td>\n",
       "    </tr>\n",
       "    <tr>\n",
       "      <th>3</th>\n",
       "      <td>27.2961</td>\n",
       "      <td>22.7063</td>\n",
       "      <td>-15.2</td>\n",
       "      <td>0.163098</td>\n",
       "      <td>0.146182</td>\n",
       "      <td>0.81736</td>\n",
       "      <td>28</td>\n",
       "      <td>147</td>\n",
       "      <td>27.2934</td>\n",
       "      <td>22.712</td>\n",
       "      <td>...</td>\n",
       "      <td>6</td>\n",
       "      <td>16</td>\n",
       "      <td>27.296</td>\n",
       "      <td>22.6969</td>\n",
       "      <td>-15.25</td>\n",
       "      <td>0.209391</td>\n",
       "      <td>0.152747</td>\n",
       "      <td>3.04847</td>\n",
       "      <td>23</td>\n",
       "      <td>87</td>\n",
       "    </tr>\n",
       "    <tr>\n",
       "      <th>4</th>\n",
       "      <td>31.0651</td>\n",
       "      <td>16.1804</td>\n",
       "      <td>-12.95</td>\n",
       "      <td>0.288794</td>\n",
       "      <td>0.192397</td>\n",
       "      <td>2.89978</td>\n",
       "      <td>62</td>\n",
       "      <td>624</td>\n",
       "      <td>31.0564</td>\n",
       "      <td>16.1784</td>\n",
       "      <td>...</td>\n",
       "      <td>55</td>\n",
       "      <td>430</td>\n",
       "      <td>31.0325</td>\n",
       "      <td>16.1644</td>\n",
       "      <td>-13</td>\n",
       "      <td>0.257539</td>\n",
       "      <td>0.183618</td>\n",
       "      <td>3.04189</td>\n",
       "      <td>66</td>\n",
       "      <td>572</td>\n",
       "    </tr>\n",
       "  </tbody>\n",
       "</table>\n",
       "<p>5 rows × 56 columns</p>\n",
       "</div>"
      ],
      "text/plain": [
       "        x0       y0     z0       lx0       ly0      phi0 npx0   vol0       x1  \\\n",
       "0  20.7725 -15.9359 -22.95  0.181091   0.14048  0.267327   39    316  20.7633   \n",
       "1  20.2258  22.9718 -23.95  0.737818   0.32068  0.608326  172  10548  20.2259   \n",
       "2  20.0909  22.9088 -23.15  0.427617  0.215545   1.59147   60   1571   20.097   \n",
       "3  27.2961  22.7063  -15.2  0.163098  0.146182   0.81736   28    147  27.2934   \n",
       "4  31.0651  16.1804 -12.95  0.288794  0.192397   2.89978   62    624  31.0564   \n",
       "\n",
       "        y1 ...  npx5 vol5       x6       y6     z6        lx6        ly6  \\\n",
       "0 -15.9407 ...    45  355  20.7716 -15.9525 -22.95   0.187638   0.144514   \n",
       "1  22.9667 ...    37  415  20.5057  23.1455 -23.95   0.544898   0.303975   \n",
       "2  22.8952 ...     9  236  20.2524  23.0559  -23.2  0.0688121  0.0688121   \n",
       "3   22.712 ...     6   16   27.296  22.6969 -15.25   0.209391   0.152747   \n",
       "4  16.1784 ...    55  430  31.0325  16.1644    -13   0.257539   0.183618   \n",
       "\n",
       "       phi6 npx6 vol6  \n",
       "0  0.395403   46  418  \n",
       "1   2.50439   27  268  \n",
       "2         0    5  102  \n",
       "3   3.04847   23   87  \n",
       "4   3.04189   66  572  \n",
       "\n",
       "[5 rows x 56 columns]"
      ]
     },
     "execution_count": 130,
     "metadata": {},
     "output_type": "execute_result"
    }
   ],
   "source": [
    "feat_data.head(5)"
   ]
  },
  {
   "cell_type": "code",
   "execution_count": null,
   "metadata": {
    "collapsed": true
   },
   "outputs": [],
   "source": []
  },
  {
   "cell_type": "code",
   "execution_count": 87,
   "metadata": {},
   "outputs": [
    {
     "data": {
      "text/plain": [
       "0.2155449092388153"
      ]
     },
     "execution_count": 87,
     "metadata": {},
     "output_type": "execute_result"
    }
   ],
   "source": [
    "t.GetLeaf('cl.ly').GetValue(2533)"
   ]
  },
  {
   "cell_type": "code",
   "execution_count": 106,
   "metadata": {},
   "outputs": [
    {
     "data": {
      "text/plain": [
       "0.14048033952713013"
      ]
     },
     "execution_count": 106,
     "metadata": {},
     "output_type": "execute_result"
    }
   ],
   "source": [
    "t.GetLeaf('cl.ly').GetValue(int(coco))"
   ]
  },
  {
   "cell_type": "code",
   "execution_count": 18,
   "metadata": {},
   "outputs": [
    {
     "data": {
      "text/plain": [
       "1"
      ]
     },
     "execution_count": 18,
     "metadata": {},
     "output_type": "execute_result"
    },
    {
     "name": "stdout",
     "output_type": "stream",
     "text": [
      "(double) 1.7091978\n"
     ]
    }
   ],
   "source": [
    "ROOT.gROOT.ProcessLine(\"2*sin(2.1*4.0)\")"
   ]
  },
  {
   "cell_type": "code",
   "execution_count": 6,
   "metadata": {},
   "outputs": [
    {
     "data": {
      "text/plain": [
       "0"
      ]
     },
     "execution_count": 6,
     "metadata": {},
     "output_type": "execute_result"
    }
   ],
   "source": [
    "ROOT.gROOT.ProcessLine(\"struct staff_t { Float_t cl_x; TBranch b_cl_x; }\" )"
   ]
  },
  {
   "cell_type": "code",
   "execution_count": 9,
   "metadata": {
    "scrolled": false
   },
   "outputs": [
    {
     "data": {
      "text/plain": [
       "4"
      ]
     },
     "execution_count": 9,
     "metadata": {},
     "output_type": "execute_result"
    }
   ],
   "source": [
    "toto = ROOT.staff_t()\n",
    "t.SetBranchAddress('cl.x', ROOT.AddressOf(toto,'cl_x'))"
   ]
  }
 ],
 "metadata": {
  "kernelspec": {
   "display_name": "Python 3",
   "language": "python",
   "name": "python3"
  },
  "language_info": {
   "codemirror_mode": {
    "name": "ipython",
    "version": 3
   },
   "file_extension": ".py",
   "mimetype": "text/x-python",
   "name": "python",
   "nbconvert_exporter": "python",
   "pygments_lexer": "ipython3",
   "version": "3.6.4"
  }
 },
 "nbformat": 4,
 "nbformat_minor": 2
}
